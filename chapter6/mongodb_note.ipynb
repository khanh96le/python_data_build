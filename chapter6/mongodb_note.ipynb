{
 "cells": [
  {
   "cell_type": "markdown",
   "metadata": {},
   "source": [
    "# Concise of MongoDB\n",
    "\n",
    "**Overview**:\n",
    "* Installation"
   ]
  },
  {
   "cell_type": "markdown",
   "metadata": {},
   "source": [
    "# Installation MongoDB\n",
    "\n",
    "## Windows\n",
    "\n",
    "### Install in normal way\n",
    "1. Download and Run file **.msi** from  https://www.mongodb.com/download-center#community\n",
    "2. Make a folder to store database\n",
    "```\n",
    "md \\data\\db\n",
    "```\n",
    "3. Open mongoDB server\n",
    "```\n",
    "C:\\Program Files\\MongoDB\\Server\\3.4\\bin\\mongod.exe\n",
    "```\n",
    "4. Client connect to server\n",
    "```\n",
    "C:\\Program Files\\MongoDB\\Server\\3.4\\bin\\mongo.exe\n",
    "```\n",
    "5. Check if mongoDB has been installed successfully\n",
    "```\n",
    "> db.test.save( {a : 1})\n",
    "WriteResult({ \"nInserted\" : 1 })\n",
    "> db.test.find()\n",
    "{ \"_id\" : ObjectId(\"5899c0bee0aaae49446aabc2\"), \"a\" : 1 }\n",
    "```"
   ]
  },
  {
   "cell_type": "markdown",
   "metadata": {},
   "source": [
    "### Install by using docker"
   ]
  },
  {
   "cell_type": "markdown",
   "metadata": {},
   "source": [
    "1. Download and install file **.msi** docker https://docs.docker.com/docker-for-windows/\n",
    "2. Open Command Promt by Adminstrator. \n",
    "3. Pull mongodb images from docker hub\n",
    "``` \n",
    "docker pull mongodb\n",
    "```\n",
    "4. Turn container of mongodb on\n",
    "\n",
    "    If there is no existing container before\n",
    "```\n",
    "docker run -it mongo bash\n",
    "```\n",
    "\n",
    "    if there has already have mongo container\n",
    "```\n",
    "docker exec -it <container_id> bash\n",
    "```\n",
    "\n",
    "5. Check ip of container\n",
    "```\n",
    "cat /etc/hosts\n",
    "```\n",
    "\n",
    "    If from the local mechine.\n",
    "\n",
    "```\n",
    "docker inspect <container_id>\n",
    "```\n"
   ]
  },
  {
   "cell_type": "markdown",
   "metadata": {},
   "source": [
    "## Linux\n",
    "\n",
    "### Install in normal way\n",
    "\n",
    "1. Import the public key used by the package management system.\n",
    "```\n",
    "sudo apt-key adv --keyserver hkp://keyserver.ubuntu.com:80 --recv 7F0CEB10\n",
    "```\n",
    "\n",
    "2. Create a list file for MongoDB\n",
    "```\n",
    "echo \"deb http://repo.mongodb.org/apt/ubuntu trusty/mongodb-org/3.0 multiverse\" | sudo tee /etc/apt/sources.list.d/mongodb-org-3.0.list\n",
    "```\n",
    "3. Reload local package database\n",
    "```\n",
    "sudo apt-get update\n",
    "```\n",
    "4. Install the MongoDB packages\n",
    "```\n",
    "sudo apt-get install -y mongodb-org\n",
    "```\n",
    "\n",
    "5. Pin a specific version of MongoDB\n",
    "```\n",
    "echo \"mongodb-org hold\" | sudo dpkg --set-selections\n",
    "echo \"mongodb-org-server hold\" | sudo dpkg --set-selections\n",
    "echo \"mongodb-org-shell hold\" | sudo dpkg --set-selections\n",
    "echo \"mongodb-org-mongos hold\" | sudo dpkg --set-selections\n",
    "echo \"mongodb-org-tools hold\" | sudo dpkg --set-selections\n",
    "```\n",
    "6. Run MongoDB\n",
    "```\n",
    "sudo service mongod start\n",
    "    \n",
    "```\n"
   ]
  },
  {
   "cell_type": "code",
   "execution_count": null,
   "metadata": {
    "collapsed": true
   },
   "outputs": [],
   "source": []
  },
  {
   "cell_type": "code",
   "execution_count": null,
   "metadata": {
    "collapsed": true
   },
   "outputs": [],
   "source": []
  },
  {
   "cell_type": "code",
   "execution_count": null,
   "metadata": {
    "collapsed": true
   },
   "outputs": [],
   "source": []
  },
  {
   "cell_type": "code",
   "execution_count": null,
   "metadata": {
    "collapsed": true
   },
   "outputs": [],
   "source": []
  },
  {
   "cell_type": "code",
   "execution_count": null,
   "metadata": {
    "collapsed": true
   },
   "outputs": [],
   "source": []
  },
  {
   "cell_type": "code",
   "execution_count": null,
   "metadata": {
    "collapsed": true
   },
   "outputs": [],
   "source": []
  },
  {
   "cell_type": "code",
   "execution_count": null,
   "metadata": {
    "collapsed": true
   },
   "outputs": [],
   "source": []
  },
  {
   "cell_type": "code",
   "execution_count": null,
   "metadata": {
    "collapsed": true
   },
   "outputs": [],
   "source": []
  },
  {
   "cell_type": "code",
   "execution_count": null,
   "metadata": {
    "collapsed": true
   },
   "outputs": [],
   "source": []
  },
  {
   "cell_type": "code",
   "execution_count": null,
   "metadata": {
    "collapsed": true
   },
   "outputs": [],
   "source": []
  },
  {
   "cell_type": "code",
   "execution_count": null,
   "metadata": {
    "collapsed": true
   },
   "outputs": [],
   "source": []
  },
  {
   "cell_type": "code",
   "execution_count": null,
   "metadata": {
    "collapsed": true
   },
   "outputs": [],
   "source": []
  },
  {
   "cell_type": "markdown",
   "metadata": {},
   "source": [
    "# Concept"
   ]
  },
  {
   "cell_type": "markdown",
   "metadata": {},
   "source": [
    "* **db.help()**: Show table of commands can use in mongoDB\n",
    "```\n",
    "DB methods:\n",
    "        db.adminCommand(nameOrDocument) - switches to 'admin' db, and runs command [ just calls db.runCommand(...) ]\n",
    "        db.auth(username, password)\n",
    "        db.cloneDatabase(fromhost)\n",
    "        db.commandHelp(name) returns the help for the command\n",
    "        db.copyDatabase(fromdb, todb, fromhost)\n",
    "        db.createCollection(name, { size : ..., capped : ..., max : ... } )\n",
    "        db.createView(name, viewOn, [ { $operator: {...}}, ... ], { viewOptions } )\n",
    "        db.createUser(userDocument)\n",
    "        db.currentOp() displays currently executing operations in the db\n",
    "        db.dropDatabase()\n",
    "        db.eval() - deprecated\n",
    "        db.fsyncLock() flush data to disk and lock server for backups\n",
    "        db.fsyncUnlock() unlocks server following a db.fsyncLock()\n",
    "        db.getCollection(cname) same as db['cname'] or db.cname\n",
    "        db.getCollectionInfos([filter]) - returns a list that contains the names and options of the db's collections\n",
    "        db.getCollectionNames()\n",
    "        db.getLastError() - just returns the err msg string\n",
    "        db.getLastErrorObj() - return full status object\n",
    "        db.getLogComponents()\n",
    "        db.getMongo() get the server connection object\n",
    "        db.getMongo().setSlaveOk() allow queries on a replication slave server\n",
    "        db.getName()\n",
    "        db.getPrevError()\n",
    "        db.getProfilingLevel() - deprecated\n",
    "        db.getProfilingStatus() - returns if profiling is on and slow threshold\n",
    "        db.getReplicationInfo()\n",
    "        db.getSiblingDB(name) get the db at the same server as this one\n",
    "        db.getWriteConcern() - returns the write concern used for any operations on this db, inherited from server object if set\n",
    "        db.hostInfo() get details about the server's host\n",
    "        db.isMaster() check replica primary status\n",
    "        db.killOp(opid) kills the current operation in the db\n",
    "        db.listCommands() lists all the db commands\n",
    "        db.loadServerScripts() loads all the scripts in db.system.js\n",
    "        db.logout()\n",
    "        db.printCollectionStats()\n",
    "        db.printReplicationInfo()\n",
    "        db.printShardingStatus()\n",
    "        db.printSlaveReplicationInfo()\n",
    "        db.dropUser(username)\n",
    "        db.repairDatabase()\n",
    "        db.resetError()\n",
    "        db.runCommand(cmdObj) run a database command.  if cmdObj is a string, turns it into { cmdObj : 1 }\n",
    "        db.serverStatus()\n",
    "        db.setLogLevel(level,<component>)\n",
    "        db.setProfilingLevel(level,<slowms>) 0=off 1=slow 2=all\n",
    "        db.setWriteConcern( <write concern doc> ) - sets the write concern for writes to the db\n",
    "        db.unsetWriteConcern( <write concern doc> ) - unsets the write concern for writes to the db\n",
    "        db.setVerboseShell(flag) display extra information in shell output\n",
    "        db.shutdownServer()\n",
    "        db.stats()\n",
    "        db.version() current version of the server\n",
    "```\n",
    "\n",
    "* **db.stats()**: Show the database name, number of collection and documents in the database\n",
    "\n",
    "```\n",
    "{\n",
    "        \"db\" : \"test\",\n",
    "        \"collections\" : 1,\n",
    "        \"views\" : 0,\n",
    "        \"objects\" : 1,\n",
    "        \"avgObjSize\" : 33,\n",
    "        \"dataSize\" : 33,\n",
    "        \"storageSize\" : 16384,\n",
    "        \"numExtents\" : 0,\n",
    "        \"indexes\" : 1,\n",
    "        \"indexSize\" : 16384,\n",
    "        \"ok\" : 1\n",
    "}\n",
    "```"
   ]
  },
  {
   "cell_type": "code",
   "execution_count": null,
   "metadata": {
    "collapsed": true
   },
   "outputs": [],
   "source": []
  }
 ],
 "metadata": {
  "anaconda-cloud": {},
  "kernelspec": {
   "display_name": "Python [conda root]",
   "language": "python",
   "name": "conda-root-py"
  },
  "language_info": {
   "codemirror_mode": {
    "name": "ipython",
    "version": 2
   },
   "file_extension": ".py",
   "mimetype": "text/x-python",
   "name": "python",
   "nbconvert_exporter": "python",
   "pygments_lexer": "ipython2",
   "version": "2.7.12"
  }
 },
 "nbformat": 4,
 "nbformat_minor": 1
}
