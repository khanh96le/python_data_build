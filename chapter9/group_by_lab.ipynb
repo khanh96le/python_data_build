{
 "cells": [
  {
   "cell_type": "code",
   "execution_count": 1,
   "metadata": {
    "collapsed": true
   },
   "outputs": [],
   "source": [
    "import pandas as pd\n",
    "from pandas import DataFrame\n",
    "from pandas import Series\n",
    "import numpy as npA"
   ]
  },
  {
   "cell_type": "code",
   "execution_count": 2,
   "metadata": {
    "collapsed": true
   },
   "outputs": [],
   "source": [
    "df = DataFrame(\n",
    "    {\n",
    "        'name': ['John', 'Merry', 'Anna', 'Bob', 'Alice'],\n",
    "        'age': [20, 21, 20, 22, 21],\n",
    "        'point': [9, 10, 8, 9, 8],\n",
    "        'subject': ['math', 'physics', 'math', 'math', 'physics']\n",
    "    }\n",
    ")"
   ]
  },
  {
   "cell_type": "code",
   "execution_count": 3,
   "metadata": {
    "collapsed": false
   },
   "outputs": [
    {
     "data": {
      "text/html": [
       "<div>\n",
       "<table border=\"1\" class=\"dataframe\">\n",
       "  <thead>\n",
       "    <tr style=\"text-align: right;\">\n",
       "      <th></th>\n",
       "      <th>age</th>\n",
       "      <th>name</th>\n",
       "      <th>point</th>\n",
       "      <th>subject</th>\n",
       "    </tr>\n",
       "  </thead>\n",
       "  <tbody>\n",
       "    <tr>\n",
       "      <th>0</th>\n",
       "      <td>20</td>\n",
       "      <td>John</td>\n",
       "      <td>9</td>\n",
       "      <td>math</td>\n",
       "    </tr>\n",
       "    <tr>\n",
       "      <th>1</th>\n",
       "      <td>21</td>\n",
       "      <td>Merry</td>\n",
       "      <td>10</td>\n",
       "      <td>physics</td>\n",
       "    </tr>\n",
       "    <tr>\n",
       "      <th>2</th>\n",
       "      <td>20</td>\n",
       "      <td>Anna</td>\n",
       "      <td>8</td>\n",
       "      <td>math</td>\n",
       "    </tr>\n",
       "    <tr>\n",
       "      <th>3</th>\n",
       "      <td>22</td>\n",
       "      <td>Bob</td>\n",
       "      <td>9</td>\n",
       "      <td>math</td>\n",
       "    </tr>\n",
       "    <tr>\n",
       "      <th>4</th>\n",
       "      <td>21</td>\n",
       "      <td>Alice</td>\n",
       "      <td>8</td>\n",
       "      <td>physics</td>\n",
       "    </tr>\n",
       "  </tbody>\n",
       "</table>\n",
       "</div>"
      ],
      "text/plain": [
       "   age   name  point  subject\n",
       "0   20   John      9     math\n",
       "1   21  Merry     10  physics\n",
       "2   20   Anna      8     math\n",
       "3   22    Bob      9     math\n",
       "4   21  Alice      8  physics"
      ]
     },
     "execution_count": 3,
     "metadata": {},
     "output_type": "execute_result"
    }
   ],
   "source": [
    "df"
   ]
  },
  {
   "cell_type": "markdown",
   "metadata": {},
   "source": [
    "**QUESTION 1**: How can i group math subject to a new dataframe, and physic to a new dataframe?\n",
    "\n",
    "But let have a quickly view to the SQL **groupby**\n",
    "\n",
    "```SQL\n",
    "SELECT column_name, aggregate_function(column_name)\n",
    "FROM table_name\n",
    "WHERE column_name operator value\n",
    "GROUP BY column_name;\n",
    "```"
   ]
  },
  {
   "cell_type": "markdown",
   "metadata": {},
   "source": [
    "As we can see, **groupby** always has an \"aggregate_function(column_name)\". The same as **groupby** in pandas."
   ]
  },
  {
   "cell_type": "markdown",
   "metadata": {},
   "source": [
    "But in the first , we need to consider how many functionals **groupby** has?"
   ]
  },
  {
   "cell_type": "markdown",
   "metadata": {},
   "source": [
    "```\n",
    "Signature: df.groupby(by=None, axis=0, level=None, as_index=True, sort=True, group_keys=True, squeeze=False, **kwargs)\n",
    "Docstring:\n",
    "Group series using mapper (dict or key function, apply given function\n",
    "to group, return result as series) or by a series of columns.\n",
    "\n",
    "Parameters\n",
    "----------\n",
    "by : mapping function / list of functions, dict, Series, or tuple /\n",
    "    list of column names.\n",
    "    Called on each element of the object index to determine the groups.\n",
    "    If a dict or Series is passed, the Series or dict VALUES will be\n",
    "    used to determine the groups\n",
    "axis : int, default 0\n",
    "level : int, level name, or sequence of such, default None\n",
    "    If the axis is a MultiIndex (hierarchical), group by a particular\n",
    "    level or levels\n",
    "as_index : boolean, default True\n",
    "    For aggregated output, return object with group labels as the\n",
    "    index. Only relevant for DataFrame input. as_index=False is\n",
    "    effectively \"SQL-style\" grouped output\n",
    "sort : boolean, default True\n",
    "    Sort group keys. Get better performance by turning this off.\n",
    "    Note this does not influence the order of observations within each\n",
    "    group.  groupby preserves the order of rows within each group.\n",
    "group_keys : boolean, default True\n",
    "    When calling apply, add group keys to index to identify pieces\n",
    "squeeze : boolean, default False\n",
    "    reduce the dimensionality of the return type if possible,\n",
    "    otherwise return a consistent type\n",
    "\n",
    "Examples\n",
    "--------\n",
    "DataFrame results\n",
    "\n",
    ">>> data.groupby(func, axis=0).mean()\n",
    ">>> data.groupby(['col1', 'col2'])['col3'].mean()\n",
    "\n",
    "DataFrame with hierarchical index\n",
    "\n",
    ">>> data.groupby(['col1', 'col2']).mean()\n",
    "\n",
    "Returns\n",
    "-------\n",
    "GroupBy object\n",
    "File:      c:\\program files\\anaconda2\\lib\\site-packages\\pandas\\core\\generic.py\n",
    "Type:      instancemethod\n",
    "```"
   ]
  },
  {
   "cell_type": "markdown",
   "metadata": {},
   "source": [
    "To answer question 1, we have 2 tasks to do is:\n",
    "1. group our dataset by subject \n",
    "2. get dataframe from groups we has grouped"
   ]
  },
  {
   "cell_type": "markdown",
   "metadata": {},
   "source": [
    "Here is the task 1, we using option **by=Series** to group a columns:"
   ]
  },
  {
   "cell_type": "code",
   "execution_count": 20,
   "metadata": {
    "collapsed": false
   },
   "outputs": [],
   "source": [
    "grouped = df.groupby(by=df['subject'])"
   ]
  },
  {
   "cell_type": "markdown",
   "metadata": {},
   "source": [
    "Here is the task 2, we using option **get_group** to get a dataframe a columns:"
   ]
  },
  {
   "cell_type": "code",
   "execution_count": 21,
   "metadata": {
    "collapsed": false
   },
   "outputs": [
    {
     "data": {
      "text/html": [
       "<div>\n",
       "<table border=\"1\" class=\"dataframe\">\n",
       "  <thead>\n",
       "    <tr style=\"text-align: right;\">\n",
       "      <th></th>\n",
       "      <th>age</th>\n",
       "      <th>name</th>\n",
       "      <th>point</th>\n",
       "      <th>subject</th>\n",
       "    </tr>\n",
       "  </thead>\n",
       "  <tbody>\n",
       "    <tr>\n",
       "      <th>0</th>\n",
       "      <td>20</td>\n",
       "      <td>John</td>\n",
       "      <td>9</td>\n",
       "      <td>math</td>\n",
       "    </tr>\n",
       "    <tr>\n",
       "      <th>2</th>\n",
       "      <td>20</td>\n",
       "      <td>Anna</td>\n",
       "      <td>8</td>\n",
       "      <td>math</td>\n",
       "    </tr>\n",
       "    <tr>\n",
       "      <th>3</th>\n",
       "      <td>22</td>\n",
       "      <td>Bob</td>\n",
       "      <td>9</td>\n",
       "      <td>math</td>\n",
       "    </tr>\n",
       "  </tbody>\n",
       "</table>\n",
       "</div>"
      ],
      "text/plain": [
       "   age  name  point subject\n",
       "0   20  John      9    math\n",
       "2   20  Anna      8    math\n",
       "3   22   Bob      9    math"
      ]
     },
     "execution_count": 21,
     "metadata": {},
     "output_type": "execute_result"
    }
   ],
   "source": [
    "df_math = grouped.get_group(name='math', obj=None)\n",
    "df_math"
   ]
  },
  {
   "cell_type": "code",
   "execution_count": 22,
   "metadata": {
    "collapsed": false
   },
   "outputs": [
    {
     "data": {
      "text/html": [
       "<div>\n",
       "<table border=\"1\" class=\"dataframe\">\n",
       "  <thead>\n",
       "    <tr style=\"text-align: right;\">\n",
       "      <th></th>\n",
       "      <th>age</th>\n",
       "      <th>name</th>\n",
       "      <th>point</th>\n",
       "      <th>subject</th>\n",
       "    </tr>\n",
       "  </thead>\n",
       "  <tbody>\n",
       "    <tr>\n",
       "      <th>1</th>\n",
       "      <td>21</td>\n",
       "      <td>Merry</td>\n",
       "      <td>10</td>\n",
       "      <td>physics</td>\n",
       "    </tr>\n",
       "    <tr>\n",
       "      <th>4</th>\n",
       "      <td>21</td>\n",
       "      <td>Alice</td>\n",
       "      <td>8</td>\n",
       "      <td>physics</td>\n",
       "    </tr>\n",
       "  </tbody>\n",
       "</table>\n",
       "</div>"
      ],
      "text/plain": [
       "   age   name  point  subject\n",
       "1   21  Merry     10  physics\n",
       "4   21  Alice      8  physics"
      ]
     },
     "execution_count": 22,
     "metadata": {},
     "output_type": "execute_result"
    }
   ],
   "source": [
    "df_physics = grouped.get_group(name='physics')\n",
    "df_physics"
   ]
  },
  {
   "cell_type": "markdown",
   "metadata": {},
   "source": [
    "**QUESTION 2**: I want to count how many people get 9 points, how many get 10 points, and other point? \n",
    "\n",
    "```\n",
    "Input: df\n",
    "Output: a DataFrame contain 2 columns: point and quantity of each point\n",
    "```"
   ]
  },
  {
   "cell_type": "markdown",
   "metadata": {},
   "source": [
    "We have to 2 tasks to do:\n",
    "1. Group our dataset by point\n",
    "2. Count elements in each group"
   ]
  },
  {
   "cell_type": "code",
   "execution_count": 26,
   "metadata": {
    "collapsed": false
   },
   "outputs": [
    {
     "data": {
      "text/html": [
       "<div>\n",
       "<table border=\"1\" class=\"dataframe\">\n",
       "  <thead>\n",
       "    <tr style=\"text-align: right;\">\n",
       "      <th></th>\n",
       "      <th>age</th>\n",
       "      <th>name</th>\n",
       "      <th>subject</th>\n",
       "    </tr>\n",
       "    <tr>\n",
       "      <th>point</th>\n",
       "      <th></th>\n",
       "      <th></th>\n",
       "      <th></th>\n",
       "    </tr>\n",
       "  </thead>\n",
       "  <tbody>\n",
       "    <tr>\n",
       "      <th>8</th>\n",
       "      <td>2</td>\n",
       "      <td>2</td>\n",
       "      <td>2</td>\n",
       "    </tr>\n",
       "    <tr>\n",
       "      <th>9</th>\n",
       "      <td>2</td>\n",
       "      <td>2</td>\n",
       "      <td>2</td>\n",
       "    </tr>\n",
       "    <tr>\n",
       "      <th>10</th>\n",
       "      <td>1</td>\n",
       "      <td>1</td>\n",
       "      <td>1</td>\n",
       "    </tr>\n",
       "  </tbody>\n",
       "</table>\n",
       "</div>"
      ],
      "text/plain": [
       "       age  name  subject\n",
       "point                    \n",
       "8        2     2        2\n",
       "9        2     2        2\n",
       "10       1     1        1"
      ]
     },
     "execution_count": 26,
     "metadata": {},
     "output_type": "execute_result"
    }
   ],
   "source": [
    "point_grouped = df.groupby(by=df['point'])\n",
    "point_grouped.count()"
   ]
  },
  {
   "cell_type": "code",
   "execution_count": null,
   "metadata": {
    "collapsed": true
   },
   "outputs": [],
   "source": []
  }
 ],
 "metadata": {
  "anaconda-cloud": {},
  "kernelspec": {
   "display_name": "Python [conda root]",
   "language": "python",
   "name": "conda-root-py"
  },
  "language_info": {
   "codemirror_mode": {
    "name": "ipython",
    "version": 2
   },
   "file_extension": ".py",
   "mimetype": "text/x-python",
   "name": "python",
   "nbconvert_exporter": "python",
   "pygments_lexer": "ipython2",
   "version": "2.7.12"
  }
 },
 "nbformat": 4,
 "nbformat_minor": 1
}
