{
 "cells": [
  {
   "cell_type": "markdown",
   "metadata": {},
   "source": [
    "# Chapter 3: IPython\n",
    "# An interactive Computing and Development Environment\n",
    "### Overview\n",
    "* IPthon basic\n",
    "* Using the command history\n",
    "* Interact with OS\n",
    "* Software Development Tools\n",
    "* IPthon HTML Notebook\n",
    "* Tips for Productive Code Development Using Python\n",
    "* Advance IPthon features\n",
    "---------\n"
   ]
  },
  {
   "cell_type": "markdown",
   "metadata": {},
   "source": [
    "# IPython basic\n",
    "Overview: \n",
    "* Tab completion\n",
    "* Instropection\n",
    "* %run command\n",
    "* Excuting code from ClipBoard\n",
    "* Keyboard shortcut\n",
    "* Exceptions and Traceback\n",
    "* Magic Commands\n",
    "* Qt-based GUI\n",
    "* Matplotlib Interaction and Pylab mode"
   ]
  },
  {
   "cell_type": "markdown",
   "metadata": {},
   "source": [
    "## Tab completion"
   ]
  },
  {
   "cell_type": "markdown",
   "metadata": {},
   "source": [
    "> While entering expressions in the shell, pressing **Tab** will search the namespace for any variables (objects, functions, etc.) matching the characters you have typed so far:"
   ]
  },
  {
   "cell_type": "code",
   "execution_count": 1,
   "metadata": {
    "collapsed": true
   },
   "outputs": [],
   "source": [
    "an_apple = 15\n",
    "an_apple = 30"
   ]
  },
  {
   "cell_type": "markdown",
   "metadata": {},
   "source": [
    "Using **tab** to show the method of an object."
   ]
  },
  {
   "cell_type": "code",
   "execution_count": 2,
   "metadata": {
    "collapsed": false
   },
   "outputs": [
    {
     "data": {
      "text/plain": [
       "2"
      ]
     },
     "execution_count": 2,
     "metadata": {},
     "output_type": "execute_result"
    }
   ],
   "source": [
    "b = [1, 2, 3]\n",
    "b.append(3)\n",
    "b.count(3)"
   ]
  },
  {
   "cell_type": "markdown",
   "metadata": {},
   "source": [
    "**“private” methods** : using underscore after dot and press **Tab**"
   ]
  },
  {
   "cell_type": "code",
   "execution_count": 3,
   "metadata": {
    "collapsed": false
   },
   "outputs": [
    {
     "data": {
      "text/plain": [
       "\"list() -> new empty list\\nlist(iterable) -> new list initialized from iterable's items\""
      ]
     },
     "execution_count": 3,
     "metadata": {},
     "output_type": "execute_result"
    }
   ],
   "source": [
    "b.__doc__"
   ]
  },
  {
   "cell_type": "markdown",
   "metadata": {},
   "source": [
    "using **Tab** to show the path of directory"
   ]
  },
  {
   "cell_type": "code",
   "execution_count": 4,
   "metadata": {
    "collapsed": true
   },
   "outputs": [],
   "source": [
    "path = '/home/khanhlq/PycharmProjects/python_data_build/chapter3/'"
   ]
  },
  {
   "cell_type": "markdown",
   "metadata": {},
   "source": [
    "## Introspection"
   ]
  },
  {
   "cell_type": "code",
   "execution_count": 5,
   "metadata": {
    "collapsed": false
   },
   "outputs": [
    {
     "ename": "NameError",
     "evalue": "name 'pd' is not defined",
     "output_type": "error",
     "traceback": [
      "\u001b[0;31m---------------------------------------------------------------------------\u001b[0m",
      "\u001b[0;31mNameError\u001b[0m                                 Traceback (most recent call last)",
      "\u001b[0;32m<ipython-input-5-1e1ad4417ba7>\u001b[0m in \u001b[0;36m<module>\u001b[0;34m()\u001b[0m\n\u001b[0;32m----> 1\u001b[0;31m b = pd.DataFrame({\n\u001b[0m\u001b[1;32m      2\u001b[0m         \u001b[1;34m\"name\"\u001b[0m\u001b[1;33m:\u001b[0m \u001b[1;33m[\u001b[0m\u001b[1;34m'john'\u001b[0m\u001b[1;33m,\u001b[0m \u001b[1;34m'mary'\u001b[0m\u001b[1;33m,\u001b[0m \u001b[1;34m'anna'\u001b[0m\u001b[1;33m]\u001b[0m\u001b[1;33m,\u001b[0m\u001b[1;33m\u001b[0m\u001b[0m\n\u001b[1;32m      3\u001b[0m         \u001b[1;34m\"age\"\u001b[0m\u001b[1;33m:\u001b[0m \u001b[1;33m[\u001b[0m\u001b[1;36m25\u001b[0m\u001b[1;33m,\u001b[0m \u001b[1;36m23\u001b[0m\u001b[1;33m,\u001b[0m \u001b[1;36m19\u001b[0m\u001b[1;33m]\u001b[0m\u001b[1;33m\u001b[0m\u001b[0m\n\u001b[1;32m      4\u001b[0m     })\n\u001b[1;32m      5\u001b[0m \u001b[0mget_ipython\u001b[0m\u001b[1;33m(\u001b[0m\u001b[1;33m)\u001b[0m\u001b[1;33m.\u001b[0m\u001b[0mmagic\u001b[0m\u001b[1;33m(\u001b[0m\u001b[1;34mu'pinfo b'\u001b[0m\u001b[1;33m)\u001b[0m\u001b[1;33m\u001b[0m\u001b[0m\n",
      "\u001b[0;31mNameError\u001b[0m: name 'pd' is not defined"
     ]
    }
   ],
   "source": [
    "b = pd.DataFrame({\n",
    "        \"name\": ['john', 'mary', 'anna'],\n",
    "        \"age\": [25, 23, 19]\n",
    "    })\n",
    "b?"
   ]
  },
  {
   "cell_type": "markdown",
   "metadata": {},
   "source": [
    "```python\n",
    "Type:        DataFrame\n",
    "String form:\n",
    "   age  name\n",
    "0   25  john\n",
    "1   23  mary\n",
    "2   19  anna\n",
    "Length:      3\n",
    "File:        ~/anaconda2/lib/python2.7/site-packages/pandas/core/frame.py\n",
    "Docstring:  \n",
    "Two-dimensional size-mutable, potentially heterogeneous tabular data\n",
    "structure with labeled axes (rows and columns). Arithmetic operations\n",
    "align on both row and column labels. Can be thought of as a dict-like\n",
    "container for Series objects. The primary pandas data structure\n",
    "\n",
    "Parameters\n",
    "----------\n",
    "data : numpy ndarray (structured or homogeneous), dict, or DataFrame\n",
    "    Dict can contain Series, arrays, constants, or list-like objects\n",
    "index : Index or array-like\n",
    "    Index to use for resulting frame. Will default to np.arange(n) if\n",
    "    no indexing information part of input data and no index provided\n",
    "columns : Index or array-like\n",
    "    Column labels to use for resulting frame. Will default to\n",
    "    np.arange(n) if no column labels are provided\n",
    "dtype : dtype, default None\n",
    "    Data type to force, otherwise infer\n",
    "copy : boolean, default False\n",
    "    Copy data from inputs. Only affects DataFrame / 2d ndarray input\n",
    "\n",
    "Examples\n",
    "--------\n",
    ">>> d = {'col1': ts1, 'col2': ts2}\n",
    ">>> df = DataFrame(data=d, index=index)\n",
    ">>> df2 = DataFrame(np.random.randn(10, 5))\n",
    ">>> df3 = DataFrame(np.random.randn(10, 5),\n",
    "...                 columns=['a', 'b', 'c', 'd', 'e'])\n",
    "\n",
    "See also\n",
    "--------\n",
    "DataFrame.from_records : constructor from tuples, also record arrays\n",
    "DataFrame.from_dict : from dicts of Series, arrays, or dicts\n",
    "DataFrame.from_items : from sequence of (key, value) pairs\n",
    "pandas.read_csv, pandas.read_table, pandas.read_clipboard\n",
    "```"
   ]
  },
  {
   "cell_type": "code",
   "execution_count": null,
   "metadata": {
    "collapsed": true
   },
   "outputs": [],
   "source": [
    "a = 1\n",
    "a?"
   ]
  },
  {
   "cell_type": "markdown",
   "metadata": {},
   "source": [
    "```python\n",
    "Type:        int\n",
    "String form: 1\n",
    "Docstring:  \n",
    "int(x=0) -> int or long\n",
    "int(x, base=10) -> int or long\n",
    "\n",
    "Convert a number or string to an integer, or return 0 if no arguments\n",
    "are given.  If x is floating point, the conversion truncates towards zero.\n",
    "If x is outside the integer range, the function returns a long instead.\n",
    "\n",
    "If x is not a number or if base is given, then x must be a string or\n",
    "Unicode object representing an integer literal in the given base.  The\n",
    "literal can be preceded by '+' or '-' and be surrounded by whitespace.\n",
    "The base defaults to 10.  Valid bases are 0 and 2-36.  Base 0 means to\n",
    "interpret the base from the string as an integer literal.\n",
    ">>> int('0b100', base=0)\n",
    "4\n",
    "```"
   ]
  },
  {
   "cell_type": "code",
   "execution_count": null,
   "metadata": {
    "collapsed": true
   },
   "outputs": [],
   "source": [
    "def add_numbers(a, b):\n",
    "    \"\"\"\n",
    "    Add two numbers\n",
    "    \n",
    "    Returns: the sum of two numbers\n",
    "    \"\"\"\n",
    "    return a + b\n",
    "add_numbers?"
   ]
  },
  {
   "cell_type": "markdown",
   "metadata": {},
   "source": [
    "```python\n",
    "Signature: add_numbers(a, b)\n",
    "Docstring:\n",
    "Add two numbers\n",
    "\n",
    "Returns: the sum of two numbers\n",
    "File:      ~/PycharmProjects/python_data_build/chapter3/<ipython-input-21-932640ba9f34>\n",
    "Type:      function\n",
    "```"
   ]
  },
  {
   "cell_type": "markdown",
   "metadata": {},
   "source": [
    "To watch source code, we use double question mark ??"
   ]
  },
  {
   "cell_type": "code",
   "execution_count": null,
   "metadata": {
    "collapsed": true
   },
   "outputs": [],
   "source": [
    "pd.pivot_table??"
   ]
  },
  {
   "cell_type": "markdown",
   "metadata": {},
   "source": [
    "```python\n",
    "Signature: pd.pivot_table(data, values=None, index=None, columns=None, aggfunc='mean', fill_value=None, margins=False, dropna=True, margins_name='All')\n",
    "Source:   \n",
    "def pivot_table(data, values=None, index=None, columns=None, aggfunc='mean',\n",
    "                fill_value=None, margins=False, dropna=True,\n",
    "                margins_name='All'):\n",
    "    \"\"\"\n",
    "    Create a spreadsheet-style pivot table as a DataFrame. The levels in the\n",
    "    pivot table will be stored in MultiIndex objects (hierarchical indexes) on\n",
    "    the index and columns of the result DataFrame\n",
    "\n",
    "    Parameters\n",
    "    ----------\n",
    "    data : DataFrame\n",
    "    values : column to aggregate, optional\n",
    "    index : column, Grouper, array, or list of the previous\n",
    "        If an array is passed, it must be the same length as the data. The list\n",
    "        can contain any of the other types (except list).\n",
    "        Keys to group by on the pivot table index.  If an array is passed, it\n",
    "        is being used as the same manner as column values.\n",
    "    columns : column, Grouper, array, or list of the previous\n",
    "        If an array is passed, it must be the same length as the data. The list\n",
    "        can contain any of the other types (except list).\n",
    "        Keys to group by on the pivot table column.  If an array is passed, it\n",
    "        is being used as the same manner as column values.\n",
    "    aggfunc : function or list of functions, default numpy.mean\n",
    "        If list of functions passed, the resulting pivot table will have\n",
    "        hierarchical columns whose top level are the function names (inferred\n",
    "        from the function objects themselves)\n",
    "    fill_value : scalar, default None\n",
    "        Value to replace missing values with\n",
    "    margins : boolean, default False\n",
    "        Add all row / columns (e.g. for subtotal / grand totals)\n",
    "    dropna : boolean, default True\n",
    "        Do not include columns whose entries are all NaN\n",
    "    margins_name : string, default 'All'\n",
    "        Name of the row / column that will contain the totals\n",
    "        when margins is True.\n",
    "\n",
    "    Examples\n",
    "    --------\n",
    "    >>> df\n",
    "       A   B   C      D\n",
    "    0  foo one small  1\n",
    "    1  foo one large  2\n",
    "    2  foo one large  2\n",
    "    3  foo two small  3\n",
    "    4  foo two small  3\n",
    "    5  bar one large  4\n",
    "    6  bar one small  5\n",
    "    7  bar two small  6\n",
    "    8  bar two large  7\n",
    "\n",
    "    >>> table = pivot_table(df, values='D', index=['A', 'B'],\n",
    "    ...                     columns=['C'], aggfunc=np.sum)\n",
    "    >>> table\n",
    "              small  large\n",
    "    foo  one  1      4\n",
    "         two  6      NaN\n",
    "    bar  one  5      4\n",
    "         two  6      7\n",
    "\n",
    "    Returns\n",
    "    -------\n",
    "    table : DataFrame\n",
    "    \"\"\"\n",
    "    index = _convert_by(index)\n",
    "    columns = _convert_by(columns)\n",
    "\n",
    "    if isinstance(aggfunc, list):\n",
    "        pieces = []\n",
    "        keys = []\n",
    "        for func in aggfunc:\n",
    "            table = pivot_table(data, values=values, index=index,\n",
    "                                columns=columns,\n",
    "                                fill_value=fill_value, aggfunc=func,\n",
    "                                margins=margins)\n",
    "            pieces.append(table)\n",
    "            keys.append(func.__name__)\n",
    "        return concat(pieces, keys=keys, axis=1)\n",
    "\n",
    "    keys = index + columns\n",
    "\n",
    "    values_passed = values is not None\n",
    "    if values_passed:\n",
    "        if com.is_list_like(values):\n",
    "            values_multi = True\n",
    "            values = list(values)\n",
    "        else:\n",
    "            values_multi = False\n",
    "            values = [values]\n",
    "    else:\n",
    "        values = list(data.columns.drop(keys))\n",
    "\n",
    "    if values_passed:\n",
    "        to_filter = []\n",
    "        for x in keys + values:\n",
    "            if isinstance(x, Grouper):\n",
    "                x = x.key\n",
    "            try:\n",
    "                if x in data:\n",
    "                    to_filter.append(x)\n",
    "            except TypeError:\n",
    "                pass\n",
    "        if len(to_filter) < len(data.columns):\n",
    "            data = data[to_filter]\n",
    "\n",
    "    grouped = data.groupby(keys)\n",
    "    agged = grouped.agg(aggfunc)\n",
    "\n",
    "    table = agged\n",
    "    if table.index.nlevels > 1:\n",
    "        to_unstack = [agged.index.names[i] or i\n",
    "                      for i in range(len(index), len(keys))]\n",
    "        table = agged.unstack(to_unstack)\n",
    "\n",
    "    if not dropna:\n",
    "        try:\n",
    "            m = MultiIndex.from_arrays(cartesian_product(table.index.levels),\n",
    "                                       names=table.index.names)\n",
    "            table = table.reindex_axis(m, axis=0)\n",
    "        except AttributeError:\n",
    "            pass  # it's a single level\n",
    "\n",
    "        try:\n",
    "            m = MultiIndex.from_arrays(cartesian_product(table.columns.levels),\n",
    "                                       names=table.columns.names)\n",
    "            table = table.reindex_axis(m, axis=1)\n",
    "        except AttributeError:\n",
    "            pass  # it's a single level or a series\n",
    "\n",
    "    if isinstance(table, DataFrame):\n",
    "        if isinstance(table.columns, MultiIndex):\n",
    "            table = table.sortlevel(axis=1)\n",
    "        else:\n",
    "            table = table.sort_index(axis=1)\n",
    "\n",
    "    if fill_value is not None:\n",
    "        table = table.fillna(value=fill_value, downcast='infer')\n",
    "\n",
    "    if margins:\n",
    "        if dropna:\n",
    "            data = data[data.notnull().all(axis=1)]\n",
    "        table = _add_margins(table, data, values, rows=index,\n",
    "                             cols=columns, aggfunc=aggfunc,\n",
    "                             margins_name=margins_name)\n",
    "\n",
    "    # discard the top level\n",
    "    if values_passed and not values_multi and not table.empty:\n",
    "        table = table[values[0]]\n",
    "\n",
    "    if len(index) == 0 and len(columns) > 0:\n",
    "        table = table.T\n",
    "\n",
    "    return table\n",
    "File:      ~/anaconda2/lib/python2.7/site-packages/pandas/tools/pivot.py\n",
    "Type:      function\n",
    "```"
   ]
  },
  {
   "cell_type": "markdown",
   "metadata": {},
   "source": [
    "## The %run Command\n",
    "------"
   ]
  },
  {
   "cell_type": "markdown",
   "metadata": {},
   "source": [
    "We have a script.py file contains some blocks of code\n",
    "```python\n",
    "# script.py\n",
    "def f(a, b, c):\n",
    "  return a*a + b*b + c*c\n",
    "a = 4\n",
    "b = 5\n",
    "c = 6\n",
    "result = f(a, b, c)\n",
    "```"
   ]
  },
  {
   "cell_type": "code",
   "execution_count": null,
   "metadata": {
    "collapsed": false
   },
   "outputs": [],
   "source": [
    "%run script.py"
   ]
  },
  {
   "cell_type": "markdown",
   "metadata": {},
   "source": [
    "> The script is run in an empty namespace (with no imports or other variables defined)so that the behavior should be identical to running the program on the command line using python script.py. All of the variables (imports, functions, and globals) defined in the file (up until an exception, if any, is raised) will then be accessible in the IPython shell:"
   ]
  },
  {
   "cell_type": "code",
   "execution_count": null,
   "metadata": {
    "collapsed": false
   },
   "outputs": [],
   "source": [
    "result"
   ]
  },
  {
   "cell_type": "markdown",
   "metadata": {},
   "source": [
    "** Python command line arguments.** \n",
    "\n",
    "We have a python file (sys_lab.py) using **sys library**. To run this file, we use ```%run``` command and pass it arguments\n",
    "```python\n",
    "import sys\n",
    "print sys.argv\n",
    "print len(sys.argv)\n",
    "```"
   ]
  },
  {
   "cell_type": "code",
   "execution_count": null,
   "metadata": {
    "collapsed": false
   },
   "outputs": [],
   "source": [
    "%run sys_lab.py 12 89 'abc'"
   ]
  },
  {
   "cell_type": "markdown",
   "metadata": {},
   "source": [
    "## Keyboard shortcut in IPthon (shell)\n",
    "------"
   ]
  },
  {
   "cell_type": "markdown",
   "metadata": {},
   "source": [
    "| Command | Description |\n",
    "|---------|-------------|\n",
    "|Ctrl-P or up-arrow| Search backward in command history for commands starting with currently-entered text |\n",
    "|Ctrl-N or down-arrow | Search forward in command history for commands starting with currently-entered text |\n",
    "|Ctrl-R | Readline-style reverse history search (partial matching)|\n",
    "|Ctrl-Shift-V | Paste text from clipboard|\n",
    "|Ctrl-C | Interrupt currently-executing code|\n",
    "|Ctrl-A | Move cursor to beginning of line|\n",
    "|Ctrl-E | Move cursor to end of line|\n",
    "|Ctrl-K | Delete text from cursor until end of line|\n",
    "|Ctrl-U | Discard all text on current line|\n",
    "|Ctrl-F | Move cursor forward one character|\n",
    "|Ctrl-B | Move cursor back one character|\n",
    "|Ctrl-L |Clear screen|"
   ]
  },
  {
   "cell_type": "markdown",
   "metadata": {},
   "source": [
    "## Exceptions and Tracebacks\n",
    ">If an exception is raised while %run-ing a script or executing any statement, IPython will by default print a full call stack trace (traceback) with a few lines of context around the position at each point in the stack."
   ]
  },
  {
   "cell_type": "code",
   "execution_count": null,
   "metadata": {
    "collapsed": false
   },
   "outputs": [],
   "source": [
    "pront"
   ]
  },
  {
   "cell_type": "markdown",
   "metadata": {},
   "source": [
    "## Magic Commands\n",
    "----\n",
    ">IPython has many special commands, known as “magic” commands, which are designed to faciliate common tasks and enable you to easily control the behavior of the IPython system. A magic command is any command prefixed by the the percent symbol **%**.\n",
    "\n",
    "For example:\n",
    "* **%timeit**: Run a statement multiple times to compute an emsemble average execution time. Useful fortiming code with very short execution time"
   ]
  },
  {
   "cell_type": "code",
   "execution_count": null,
   "metadata": {
    "collapsed": false
   },
   "outputs": [],
   "source": [
    "a = np.random.randn(100, 100)\n",
    "a"
   ]
  },
  {
   "cell_type": "code",
   "execution_count": null,
   "metadata": {
    "collapsed": false
   },
   "outputs": [],
   "source": [
    "%timeit np.dot(a, a)"
   ]
  },
  {
   "cell_type": "markdown",
   "metadata": {},
   "source": [
    "* **%quickref**: Display the IPython Quick Reference Card"
   ]
  },
  {
   "cell_type": "code",
   "execution_count": null,
   "metadata": {
    "collapsed": true
   },
   "outputs": [],
   "source": [
    "%quickref"
   ]
  },
  {
   "cell_type": "markdown",
   "metadata": {},
   "source": [
    "* **%alias**: Make shortcut for a command"
   ]
  },
  {
   "cell_type": "code",
   "execution_count": null,
   "metadata": {
    "collapsed": false
   },
   "outputs": [],
   "source": [
    "%alias d dir"
   ]
  },
  {
   "cell_type": "code",
   "execution_count": null,
   "metadata": {
    "collapsed": false
   },
   "outputs": [],
   "source": [
    "!dir"
   ]
  },
  {
   "cell_type": "markdown",
   "metadata": {},
   "source": [
    "* **%hist**: Show the history"
   ]
  },
  {
   "cell_type": "code",
   "execution_count": null,
   "metadata": {
    "collapsed": false,
    "scrolled": true
   },
   "outputs": [],
   "source": [
    "%hist"
   ]
  },
  {
   "cell_type": "markdown",
   "metadata": {},
   "source": [
    "* **%who**: Display all the variables defined in IPython"
   ]
  },
  {
   "cell_type": "code",
   "execution_count": null,
   "metadata": {
    "collapsed": false
   },
   "outputs": [],
   "source": [
    "%who"
   ]
  },
  {
   "cell_type": "markdown",
   "metadata": {},
   "source": [
    "* **%reset**: Delete all the variable / names defined in the interactive namespace \n",
    "\n",
    "When we works with the large data sets, the the Input and Output history can make your computer become freeze, so we need to care about free the space. Using **%reset** or **%xdel** can solve that problems"
   ]
  },
  {
   "cell_type": "code",
   "execution_count": null,
   "metadata": {
    "collapsed": false
   },
   "outputs": [],
   "source": [
    "%reset"
   ]
  },
  {
   "cell_type": "markdown",
   "metadata": {},
   "source": [
    "## Qt-based Rich GUI Console\n",
    "-----"
   ]
  },
  {
   "cell_type": "markdown",
   "metadata": {},
   "source": [
    "### Runing:\n",
    "```python \n",
    "ipython qtconsole --pylab=inline \n",
    "```"
   ]
  },
  {
   "cell_type": "markdown",
   "metadata": {},
   "source": [
    "### Describe:\n",
    "The Qt console can launch multiple IPython processes in tabs, enabling you to switch between tasks. It can also share a process with the IPython HTML Notebook applica-tion"
   ]
  },
  {
   "cell_type": "markdown",
   "metadata": {},
   "source": [
    "### Examples"
   ]
  },
  {
   "cell_type": "markdown",
   "metadata": {},
   "source": [
    "* show image\n",
    "```python\n",
    "import matplotlib.pyplot as plt\n",
    "img = plt.imread('/home/khanhlq/Pictures/hello_world.png')\n",
    "plt.imshow(img)\n",
    "plt.show()\n",
    "```"
   ]
  },
  {
   "cell_type": "markdown",
   "metadata": {},
   "source": [
    "* show plot\n",
    "```python\n",
    "import numpy as np\n",
    "plt.plot(np.random.randn(1000).cumsum())\n",
    "plt.show()\n",
    "```"
   ]
  },
  {
   "cell_type": "markdown",
   "metadata": {},
   "source": [
    "## Matplotlib Integration and Pylab Mode\n",
    "---- \n",
    "IPthon can run samelessly with the GUI. But, regular Python shell cannot do that "
   ]
  },
  {
   "cell_type": "markdown",
   "metadata": {},
   "source": [
    "# Using the Command History\n",
    "----\n",
    "IPython maintains a small on-disk database containing the text of each command that you execute. This serves various purposes:\n",
    "* Searching, completing, and executing previously-executed commands with mini-mal typing\n",
    "\n",
    "    Use Ctr-R to search the old command.\n",
    "    \n",
    "\n",
    "* Persisting the command history between sessions.\n",
    "    \n",
    "    * Use **_iX** to show Input variable in line X\n",
    "    * Use **_X** to show Output in the line X\n",
    "\n",
    "\n"
   ]
  },
  {
   "cell_type": "code",
   "execution_count": null,
   "metadata": {
    "collapsed": false
   },
   "outputs": [],
   "source": [
    "_i3"
   ]
  },
  {
   "cell_type": "code",
   "execution_count": null,
   "metadata": {
    "collapsed": false
   },
   "outputs": [],
   "source": [
    "_4"
   ]
  },
  {
   "cell_type": "markdown",
   "metadata": {},
   "source": [
    "* Logging the input/output history to a file"
   ]
  },
  {
   "cell_type": "code",
   "execution_count": null,
   "metadata": {
    "collapsed": false
   },
   "outputs": [],
   "source": [
    "%logstart"
   ]
  },
  {
   "cell_type": "markdown",
   "metadata": {},
   "source": [
    "# Interacting with the Operating System\n",
    "----\n",
    "## Shell command and Alias\n",
    "> Starting a line in IPython with an exclamation point !, or bang, tells IPython to execute everything after the bang in the system shell."
   ]
  },
  {
   "cell_type": "code",
   "execution_count": null,
   "metadata": {
    "collapsed": false
   },
   "outputs": [],
   "source": [
    "!ls"
   ]
  },
  {
   "cell_type": "code",
   "execution_count": null,
   "metadata": {
    "collapsed": false
   },
   "outputs": [],
   "source": [
    "!pwd"
   ]
  },
  {
   "cell_type": "code",
   "execution_count": null,
   "metadata": {
    "collapsed": false
   },
   "outputs": [],
   "source": [
    "ip_info = !ifconfig | grep \"inet \"\n",
    "ip_info"
   ]
  },
  {
   "cell_type": "markdown",
   "metadata": {},
   "source": [
    "> **%alias** is a magic command. It defines custom shortcut for shell commands."
   ]
  },
  {
   "cell_type": "code",
   "execution_count": null,
   "metadata": {
    "collapsed": true
   },
   "outputs": [],
   "source": [
    "%alias ll ls -l"
   ]
  },
  {
   "cell_type": "code",
   "execution_count": null,
   "metadata": {
    "collapsed": false,
    "scrolled": true
   },
   "outputs": [],
   "source": [
    "ll ~"
   ]
  },
  {
   "cell_type": "markdown",
   "metadata": {},
   "source": [
    "## Directory Bookmark System\n",
    "> IPython has a simple directory bookmarking system to enable you to save aliases for common directories so that you can jump around very easily."
   ]
  },
  {
   "cell_type": "code",
   "execution_count": null,
   "metadata": {
    "collapsed": true
   },
   "outputs": [],
   "source": [
    "%bookmark db /home/khanhlq/PycharmProjects/\n",
    "%bookmark project_path /home/khanhlq/PycharmProjects/python_data_build"
   ]
  },
  {
   "cell_type": "code",
   "execution_count": null,
   "metadata": {
    "collapsed": false
   },
   "outputs": [],
   "source": [
    "cd db"
   ]
  },
  {
   "cell_type": "code",
   "execution_count": null,
   "metadata": {
    "collapsed": false
   },
   "outputs": [],
   "source": [
    "%bookmark -l"
   ]
  },
  {
   "cell_type": "markdown",
   "metadata": {},
   "source": [
    "# Software Development Tools\n",
    "### Overview\n",
    "> * Interactive Debugger\n",
    "> * Timing Code : **%time** and **%timeit**\n",
    "> * Basic Profiling: **%prun** and **%run -p**\n",
    "> * Profiling a Function: Line by Line\n"
   ]
  },
  {
   "cell_type": "markdown",
   "metadata": {},
   "source": [
    "## Interactive Debugger"
   ]
  },
  {
   "cell_type": "code",
   "execution_count": null,
   "metadata": {
    "collapsed": false
   },
   "outputs": [],
   "source": [
    "%run ipython_bug.py"
   ]
  },
  {
   "cell_type": "markdown",
   "metadata": {},
   "source": [
    "> Using **%debug** to watch bugs. Using u(up) and d(down) to switch between levels of of stack trace"
   ]
  },
  {
   "cell_type": "code",
   "execution_count": null,
   "metadata": {
    "collapsed": false
   },
   "outputs": [],
   "source": [
    "%debug"
   ]
  },
  {
   "cell_type": "markdown",
   "metadata": {},
   "source": [
    "> Executing the **%pdb** command makes it so that IPython automatically invokes the debugger after any exception"
   ]
  },
  {
   "cell_type": "code",
   "execution_count": null,
   "metadata": {
    "collapsed": false
   },
   "outputs": [],
   "source": [
    "%pdb"
   ]
  },
  {
   "cell_type": "code",
   "execution_count": null,
   "metadata": {
    "collapsed": false,
    "scrolled": true
   },
   "outputs": [],
   "source": [
    "run -d ipython_bug.py"
   ]
  },
  {
   "cell_type": "markdown",
   "metadata": {},
   "source": [
    "## Timing code: **%time** and **%timeit**\n",
    "> For larger-scale or longer-running data analysis applications, you may wish to measure the execution time of various components or of individual statements or function calls.You may want a report of which functions are taking up the most time in a complex process. Fortunately, IPython enables you to get this information very easily while you are developing and testing your code."
   ]
  },
  {
   "cell_type": "markdown",
   "metadata": {},
   "source": [
    "Example: select the string start with 'teach' in a very large list strings"
   ]
  },
  {
   "cell_type": "code",
   "execution_count": null,
   "metadata": {
    "collapsed": false
   },
   "outputs": [],
   "source": [
    "# a very large list of strings\n",
    "strings = ['student', 'teacher', 'teach', 'python', 'Guido van Rosum'] * 1000\n",
    "strings"
   ]
  },
  {
   "cell_type": "code",
   "execution_count": null,
   "metadata": {
    "collapsed": false
   },
   "outputs": [],
   "source": [
    "method1 = [x for x in strings if x.startswith('teach')]\n",
    "method1"
   ]
  },
  {
   "cell_type": "code",
   "execution_count": null,
   "metadata": {
    "collapsed": false,
    "scrolled": true
   },
   "outputs": [],
   "source": [
    "method2 = [x for x in strings if x[:5] == 'teach']\n",
    "method2"
   ]
  },
  {
   "cell_type": "markdown",
   "metadata": {},
   "source": [
    "* **%time**: runs a statement once, reporting the total execution time."
   ]
  },
  {
   "cell_type": "code",
   "execution_count": null,
   "metadata": {
    "collapsed": false
   },
   "outputs": [],
   "source": [
    "%time method1 = [x for x in strings if x.startswith('teach')]"
   ]
  },
  {
   "cell_type": "code",
   "execution_count": null,
   "metadata": {
    "collapsed": false
   },
   "outputs": [],
   "source": [
    "%time method2 = [x for x in strings if x[:5] == 'teach']"
   ]
  },
  {
   "cell_type": "markdown",
   "metadata": {},
   "source": [
    "* **%timeit**: Reporting the "
   ]
  },
  {
   "cell_type": "code",
   "execution_count": null,
   "metadata": {
    "collapsed": false
   },
   "outputs": [],
   "source": [
    "%timeit method1 = [x for x in strings if x.startswith('teach')]"
   ]
  },
  {
   "cell_type": "code",
   "execution_count": null,
   "metadata": {
    "collapsed": false
   },
   "outputs": [],
   "source": [
    "%timeit method2 = [x for x in strings if x[:5] == 'teach']"
   ]
  },
  {
   "cell_type": "markdown",
   "metadata": {
    "collapsed": true
   },
   "source": [
    "## Basic profiling: %prun %run"
   ]
  },
  {
   "cell_type": "markdown",
   "metadata": {},
   "source": [
    "> Profiling code is closely related to timing code, except it is concerned with determining where time is spent. The main Python profiling tool is the cProfile module, which isnot specific to IPython at all. cProfile executes a program or any arbitrary block of code while keeping track of how much time is spent in each function.\n",
    "\n",
    "We we had a simple script which does some linear algebra in a loop (computing the maximum absolute eigenvalues ofa series of 100 x 100 matrices).\n",
    "```python\n",
    "import numpy as np\n",
    "from numpy.linalg import eigvals\n",
    "\n",
    "def run_experiment(nilter = 100):\n",
    "    k = 100\n",
    "    results = [ ]\n",
    "    for _ in xrange(nilter):\n",
    "        mat = np.random.randn(k, k)\n",
    "        max_eigenvalue = np.abs(eigvals(mat)).max()\n",
    "        results.append(max_eigenvalue)\n",
    "    return results\n",
    "\n",
    "some_result = run_experiment()\n",
    "print 'Largest one we saw: %s' % np.max(some_result)\n",
    "```\n",
    "\n",
    "Then we run that file by this command:\n",
    "```python\n",
    "python -m cProfile cprof_example.py\n",
    "```"
   ]
  },
  {
   "cell_type": "code",
   "execution_count": 9,
   "metadata": {
    "collapsed": false,
    "scrolled": true
   },
   "outputs": [
    {
     "name": "stdout",
     "output_type": "stream",
     "text": [
      "Largest one we saw: 11.3767625088\n",
      "         15899 function calls (15778 primitive calls) in 0.399 seconds\n",
      "\n",
      "   Ordered by: standard name\n",
      "\n",
      "   ncalls  tottime  percall  cumtime  percall filename:lineno(function)\n",
      "        1    0.000    0.000    0.000    0.000 <string>:1(<module>)\n",
      "        1    0.000    0.000    0.000    0.000 <string>:1(Match)\n",
      "        1    0.000    0.000    0.000    0.000 <string>:1(Mismatch)\n",
      "        1    0.000    0.000    0.000    0.000 StringIO.py:30(<module>)\n",
      "        1    0.000    0.000    0.000    0.000 StringIO.py:42(StringIO)\n",
      "        1    0.000    0.000    0.000    0.000 __config__.py:3(<module>)\n",
      "        1    0.000    0.000    0.000    0.000 __future__.py:48(<module>)\n",
      "        1    0.000    0.000    0.000    0.000 __future__.py:74(_Feature)\n",
      "        7    0.000    0.000    0.000    0.000 __future__.py:75(__init__)\n",
      "        4    0.012    0.003    0.070    0.018 __init__.py:1(<module>)\n",
      "        1    0.001    0.001    0.001    0.001 __init__.py:10(<module>)\n",
      "        3    0.000    0.000    0.000    0.000 __init__.py:101(CFunctionType)\n",
      "        1    0.002    0.002    0.049    0.049 __init__.py:106(<module>)\n",
      "       14    0.000    0.000    0.000    0.000 __init__.py:144(_check_size)\n",
      "        1    0.001    0.001    0.002    0.002 __init__.py:15(<module>)\n",
      "        1    0.000    0.000    0.000    0.000 __init__.py:156(py_object)\n",
      "        1    0.000    0.000    0.000    0.000 __init__.py:165(c_short)\n",
      "        1    0.000    0.000    0.000    0.000 __init__.py:169(c_ushort)\n",
      "        1    0.000    0.000    0.000    0.000 __init__.py:173(c_long)\n",
      "        1    0.000    0.000    0.000    0.000 __init__.py:177(c_ulong)\n",
      "        1    0.000    0.000    0.000    0.000 __init__.py:194(c_float)\n",
      "        1    0.000    0.000    0.000    0.000 __init__.py:198(c_double)\n",
      "        1    0.000    0.000    0.000    0.000 __init__.py:202(c_longdouble)\n",
      "        1    0.000    0.000    0.000    0.000 __init__.py:212(c_longlong)\n",
      "        1    0.000    0.000    0.000    0.000 __init__.py:216(c_ulonglong)\n",
      "        1    0.000    0.000    0.000    0.000 __init__.py:223(c_ubyte)\n",
      "        1    0.000    0.000    0.000    0.000 __init__.py:230(c_byte)\n",
      "        1    0.000    0.000    0.000    0.000 __init__.py:235(c_char)\n",
      "        1    0.000    0.000    0.000    0.000 __init__.py:240(c_char_p)\n",
      "        1    0.000    0.000    0.000    0.000 __init__.py:252(c_void_p)\n",
      "        1    0.000    0.000    0.000    0.000 __init__.py:257(c_bool)\n",
      "        1    0.000    0.000    0.000    0.000 __init__.py:262(_reset_cache)\n",
      "        1    0.000    0.000    0.000    0.000 __init__.py:288(c_wchar_p)\n",
      "        1    0.000    0.000    0.000    0.000 __init__.py:291(c_wchar)\n",
      "        1    0.000    0.000    0.000    0.000 __init__.py:3(<module>)\n",
      "        1    0.000    0.000    0.000    0.000 __init__.py:329(CDLL)\n",
      "        2    0.000    0.000    0.000    0.000 __init__.py:346(__init__)\n",
      "        2    0.000    0.000    0.000    0.000 __init__.py:356(_FuncPtr)\n",
      "        1    0.000    0.000    0.000    0.000 __init__.py:372(__getattr__)\n",
      "        1    0.000    0.000    0.000    0.000 __init__.py:379(__getitem__)\n",
      "        1    0.000    0.000    0.000    0.000 __init__.py:385(PyDLL)\n",
      "        1    0.000    0.000    0.000    0.000 __init__.py:394(WinDLL)\n",
      "        1    0.000    0.000    0.000    0.000 __init__.py:403(HRESULT)\n",
      "        1    0.001    0.001    0.003    0.003 __init__.py:41(<module>)\n",
      "        1    0.000    0.000    0.000    0.000 __init__.py:416(OleDLL)\n",
      "        1    0.000    0.000    0.000    0.000 __init__.py:425(LibraryLoader)\n",
      "        4    0.000    0.000    0.000    0.000 __init__.py:426(__init__)\n",
      "        1    0.000    0.000    0.000    0.000 __init__.py:429(__getattr__)\n",
      "        2    0.001    0.001    0.005    0.003 __init__.py:45(<module>)\n",
      "        1    0.000    0.000    0.000    0.000 __init__.py:49(normalize_encoding)\n",
      "        3    0.000    0.000    0.000    0.000 __init__.py:490(PYFUNCTYPE)\n",
      "        3    0.000    0.000    0.000    0.000 __init__.py:491(CFunctionType)\n",
      "        1    0.000    0.000    0.013    0.013 __init__.py:7(<module>)\n",
      "        1    0.000    0.000    0.000    0.000 __init__.py:71(search_function)\n",
      "        3    0.000    0.000    0.000    0.000 __init__.py:75(CFUNCTYPE)\n",
      "        1    0.001    0.001    0.002    0.002 __init__.py:88(<module>)\n",
      "        1    0.000    0.000    0.000    0.000 _datasource.py:154(DataSource)\n",
      "        1    0.000    0.000    0.000    0.000 _datasource.py:35(<module>)\n",
      "        1    0.000    0.000    0.000    0.000 _datasource.py:50(_FileOpeners)\n",
      "        1    0.000    0.000    0.000    0.000 _datasource.py:504(Repository)\n",
      "        1    0.000    0.000    0.000    0.000 _datasource.py:74(__init__)\n",
      "        1    0.000    0.000    0.000    0.000 _endian.py:1(<module>)\n",
      "        1    0.000    0.000    0.000    0.000 _endian.py:23(_swapped_meta)\n",
      "        1    0.000    0.000    0.000    0.000 _endian.py:46(BigEndianStructure)\n",
      "        1    0.000    0.000    0.000    0.000 _globals.py:17(<module>)\n",
      "        1    0.000    0.000    0.000    0.000 _globals.py:33(ModuleDeprecationWarning)\n",
      "        1    0.000    0.000    0.000    0.000 _globals.py:45(VisibleDeprecationWarning)\n",
      "        1    0.000    0.000    0.000    0.000 _globals.py:56(_NoValue)\n",
      "        1    0.000    0.000    0.000    0.000 _import_tools.py:1(<module>)\n",
      "        1    0.000    0.000    0.000    0.000 _import_tools.py:340(PackageLoaderDebug)\n",
      "        1    0.000    0.000    0.000    0.000 _import_tools.py:9(PackageLoader)\n",
      "       98    0.000    0.000    0.000    0.000 _inspect.py:133(strseq)\n",
      "       38    0.000    0.000    0.000    0.000 _inspect.py:142(formatargspec)\n",
      "        7    0.000    0.000    0.000    0.000 _inspect.py:144(<lambda>)\n",
      "        5    0.000    0.000    0.000    0.000 _inspect.py:145(<lambda>)\n",
      "       60    0.000    0.000    0.000    0.000 _inspect.py:146(<lambda>)\n",
      "       43    0.000    0.000    0.000    0.000 _inspect.py:15(ismethod)\n",
      "       43    0.000    0.000    0.000    0.000 _inspect.py:28(isfunction)\n",
      "       38    0.000    0.000    0.000    0.000 _inspect.py:43(iscode)\n",
      "       38    0.000    0.000    0.000    0.000 _inspect.py:67(getargs)\n",
      "        1    0.000    0.000    0.000    0.000 _inspect.py:7(<module>)\n",
      "       43    0.000    0.000    0.000    0.000 _inspect.py:98(getargspec)\n",
      "        1    0.000    0.000    0.000    0.000 _internal.py:200(_getintp_ctype)\n",
      "        1    0.000    0.000    0.000    0.000 _internal.py:219(_missing_ctypes)\n",
      "        1    0.000    0.000    0.000    0.000 _internal.py:226(_ctypes)\n",
      "        1    0.001    0.001    0.008    0.008 _internal.py:6(<module>)\n",
      "        1    0.000    0.000    0.000    0.000 _internal.py:631(TooHardError)\n",
      "        1    0.000    0.000    0.000    0.000 _iotools.py:154(LineSplitter)\n",
      "        1    0.000    0.000    0.000    0.000 _iotools.py:250(NameValidator)\n",
      "        1    0.000    0.000    0.000    0.000 _iotools.py:3(<module>)\n",
      "        1    0.000    0.000    0.000    0.000 _iotools.py:444(ConverterError)\n",
      "        1    0.000    0.000    0.000    0.000 _iotools.py:452(ConverterLockError)\n",
      "        1    0.000    0.000    0.000    0.000 _iotools.py:460(ConversionWarning)\n",
      "        1    0.000    0.000    0.000    0.000 _iotools.py:473(StringConverter)\n",
      "      101    0.000    0.000    0.000    0.000 _methods.py:25(_amax)\n",
      "      200    0.000    0.000    0.001    0.000 _methods.py:40(_all)\n",
      "        1    0.000    0.000    0.000    0.000 _methods.py:5(<module>)\n",
      "        1    0.000    0.000    0.000    0.000 _polybase.py:19(ABCPolyBase)\n",
      "        1    0.000    0.000    0.000    0.000 _polybase.py:8(<module>)\n",
      "        1    0.000    0.000    0.000    0.000 _version.py:18(NumpyVersion)\n",
      "        1    0.000    0.000    0.000    0.000 _version.py:7(<module>)\n",
      "       20    0.000    0.000    0.000    0.000 _weakrefset.py:16(__init__)\n",
      "       20    0.000    0.000    0.000    0.000 _weakrefset.py:20(__enter__)\n",
      "       20    0.000    0.000    0.000    0.000 _weakrefset.py:26(__exit__)\n",
      "       64    0.000    0.000    0.000    0.000 _weakrefset.py:36(__init__)\n",
      "       20    0.000    0.000    0.000    0.000 _weakrefset.py:52(_commit_removals)\n",
      "       43    0.000    0.000    0.000    0.000 _weakrefset.py:58(__iter__)\n",
      "       24    0.000    0.000    0.000    0.000 _weakrefset.py:70(__contains__)\n",
      "       35    0.000    0.000    0.000    0.000 _weakrefset.py:83(add)\n",
      "       15    0.000    0.000    0.000    0.000 abc.py:105(register)\n",
      "    20/15    0.000    0.000    0.000    0.000 abc.py:148(__subclasscheck__)\n",
      "       49    0.000    0.000    0.000    0.000 abc.py:15(abstractmethod)\n",
      "       16    0.000    0.000    0.001    0.000 abc.py:86(__new__)\n",
      "       72    0.000    0.000    0.000    0.000 abc.py:89(<genexpr>)\n",
      "        1    0.000    0.000    0.038    0.038 add_newdocs.py:10(<module>)\n",
      "        1    0.000    0.000    0.000    0.000 arraypad.py:5(<module>)\n",
      "        1    0.000    0.000    0.000    0.000 arrayprint.py:5(<module>)\n",
      "        1    0.000    0.000    0.000    0.000 arrayprint.py:528(FloatFormat)\n",
      "        1    0.000    0.000    0.000    0.000 arrayprint.py:634(IntegerFormat)\n",
      "        1    0.000    0.000    0.000    0.000 arrayprint.py:654(LongFloatFormat)\n",
      "        1    0.000    0.000    0.000    0.000 arrayprint.py:684(LongComplexFormat)\n",
      "        1    0.000    0.000    0.000    0.000 arrayprint.py:695(ComplexFormat)\n",
      "        1    0.000    0.000    0.000    0.000 arrayprint.py:712(DatetimeFormat)\n",
      "        1    0.000    0.000    0.000    0.000 arrayprint.py:733(TimedeltaFormat)\n",
      "        1    0.000    0.000    0.000    0.000 arraysetops.py:26(<module>)\n",
      "        1    0.000    0.000    0.000    0.000 arrayterator.py:20(Arrayterator)\n",
      "        1    0.000    0.000    0.000    0.000 arrayterator.py:9(<module>)\n",
      "        1    0.001    0.001    0.001    0.001 case.py:1(<module>)\n",
      "        1    0.000    0.000    0.000    0.000 case.py:1018(FunctionTestCase)\n",
      "        1    0.000    0.000    0.000    0.000 case.py:131(TestCase)\n",
      "        1    0.000    0.000    0.000    0.000 case.py:25(SkipTest)\n",
      "        1    0.000    0.000    0.000    0.000 case.py:34(_ExpectedFailure)\n",
      "        1    0.000    0.000    0.000    0.000 case.py:45(_UnexpectedSuccess)\n",
      "        7    0.000    0.000    0.000    0.000 case.py:607(_deprecate)\n",
      "        1    0.000    0.000    0.000    0.000 case.py:98(_AssertRaisesContext)\n",
      "        1    0.000    0.000    0.000    0.000 chebyshev.py:2041(Chebyshev)\n",
      "        1    0.000    0.000    0.000    0.000 chebyshev.py:87(<module>)\n",
      "        1    0.000    0.000    0.000    0.000 codecs.py:92(__new__)\n",
      "        1    0.001    0.001    0.001    0.001 collections.py:11(<module>)\n",
      "        2    0.001    0.000    0.001    0.000 collections.py:305(namedtuple)\n",
      "       46    0.000    0.000    0.000    0.000 collections.py:349(<genexpr>)\n",
      "        8    0.000    0.000    0.000    0.000 collections.py:373(<genexpr>)\n",
      "        8    0.000    0.000    0.000    0.000 collections.py:375(<genexpr>)\n",
      "        1    0.000    0.000    0.000    0.000 collections.py:38(OrderedDict)\n",
      "        1    0.000    0.000    0.000    0.000 collections.py:407(Counter)\n",
      "        1    0.001    0.001    0.399    0.399 compute_max_value.py:1(<module>)\n",
      "        1    0.001    0.001    0.349    0.349 compute_max_value.py:4(run_experiment)\n",
      "        1    0.000    0.000    0.000    0.000 contextlib.py:1(<module>)\n",
      "        1    0.000    0.000    0.000    0.000 contextlib.py:132(closing)\n",
      "        5    0.000    0.000    0.000    0.000 contextlib.py:54(contextmanager)\n",
      "        1    0.000    0.000    0.000    0.000 contextlib.py:9(GeneratorContextManager)\n",
      "        1    0.000    0.000    0.000    0.000 copy_reg.py:14(pickle)\n",
      "        1    0.000    0.000    0.000    0.000 copy_reg.py:27(constructor)\n",
      "        1    0.000    0.000    0.000    0.000 core.py:1118(_DomainedBinaryOperation)\n",
      "       43    0.000    0.000    0.000    0.000 core.py:113(get_object_signature)\n",
      "        6    0.000    0.000    0.000    0.000 core.py:1139(__init__)\n",
      "        1    0.000    0.000    0.000    0.000 core.py:130(MAError)\n",
      "        1    0.000    0.000    0.000    0.000 core.py:138(MaskError)\n",
      "        1    0.000    0.000    0.002    0.002 core.py:21(<module>)\n",
      "        1    0.000    0.000    0.000    0.000 core.py:2352(_MaskedPrintOption)\n",
      "        1    0.000    0.000    0.000    0.000 core.py:2358(__init__)\n",
      "        9    0.000    0.000    0.000    0.000 core.py:2521(_arraymethod)\n",
      "        1    0.000    0.000    0.000    0.000 core.py:2569(MaskedIterator)\n",
      "        1    0.001    0.001    0.001    0.001 core.py:2683(MaskedArray)\n",
      "        1    0.000    0.000    0.000    0.000 core.py:5902(mvoid)\n",
      "        1    0.000    0.000    0.000    0.000 core.py:6104(MaskedConstant)\n",
      "        1    0.000    0.000    0.000    0.000 core.py:6111(__new__)\n",
      "        1    0.000    0.000    0.000    0.000 core.py:6114(__array_finalize__)\n",
      "        1    0.000    0.000    0.000    0.000 core.py:6214(_extrema_operation)\n",
      "        1    0.000    0.000    0.000    0.000 core.py:6271(_minimum_operation)\n",
      "        1    0.000    0.000    0.000    0.000 core.py:6275(__init__)\n",
      "        1    0.000    0.000    0.000    0.000 core.py:6285(_maximum_operation)\n",
      "        1    0.000    0.000    0.000    0.000 core.py:6289(__init__)\n",
      "        1    0.000    0.000    0.000    0.000 core.py:6342(_frommethod)\n",
      "       26    0.000    0.000    0.000    0.000 core.py:6353(__init__)\n",
      "       26    0.000    0.000    0.000    0.000 core.py:6358(getdoc)\n",
      "        1    0.000    0.000    0.000    0.000 core.py:7764(_convert2ma)\n",
      "        8    0.000    0.000    0.000    0.000 core.py:7777(__init__)\n",
      "        8    0.000    0.000    0.000    0.000 core.py:7782(getdoc)\n",
      "        1    0.000    0.000    0.000    0.000 core.py:796(_DomainCheckInterval)\n",
      "        3    0.000    0.000    0.000    0.000 core.py:805(__init__)\n",
      "        1    0.000    0.000    0.000    0.000 core.py:818(_DomainTan)\n",
      "        1    0.000    0.000    0.000    0.000 core.py:826(__init__)\n",
      "        1    0.000    0.000    0.000    0.000 core.py:835(_DomainSafeDivide)\n",
      "        6    0.000    0.000    0.000    0.000 core.py:841(__init__)\n",
      "        1    0.000    0.000    0.000    0.000 core.py:855(_DomainGreater)\n",
      "        3    0.000    0.000    0.000    0.000 core.py:861(__init__)\n",
      "        1    0.000    0.000    0.000    0.000 core.py:870(_DomainGreaterEqual)\n",
      "        2    0.000    0.000    0.000    0.000 core.py:876(__init__)\n",
      "        1    0.000    0.000    0.000    0.000 core.py:885(_MaskedUnaryOperation)\n",
      "        1    0.000    0.000    0.000    0.000 core.py:90(MaskedArrayFutureWarning)\n",
      "       27    0.000    0.000    0.000    0.000 core.py:903(__init__)\n",
      "        4    0.000    0.000    0.000    0.000 core.py:94(doc_note)\n",
      "        1    0.000    0.000    0.000    0.000 core.py:961(_MaskedBinaryOperation)\n",
      "       18    0.000    0.000    0.000    0.000 core.py:981(__init__)\n",
      "        1    0.000    0.000    0.000    0.000 ctypeslib.py:177(_ndptr)\n",
      "       12    0.000    0.000    0.000    0.000 ctypeslib.py:330(prep_simple)\n",
      "        1    0.000    0.000    0.000    0.000 ctypeslib.py:51(<module>)\n",
      "        1    0.000    0.000    0.008    0.008 decorators.py:15(<module>)\n",
      "        1    0.000    0.000    0.000    0.000 defchararray.py:1669(chararray)\n",
      "        1    0.000    0.000    0.000    0.000 defchararray.py:17(<module>)\n",
      "        1    0.000    0.000    0.000    0.000 defmatrix.py:1(<module>)\n",
      "        1    0.000    0.000    0.000    0.000 defmatrix.py:208(matrix)\n",
      "        1    0.000    0.000    0.000    0.000 difflib.py:1670(HtmlDiff)\n",
      "        1    0.000    0.000    0.000    0.000 difflib.py:27(<module>)\n",
      "        1    0.000    0.000    0.000    0.000 difflib.py:44(SequenceMatcher)\n",
      "        1    0.000    0.000    0.000    0.000 difflib.py:764(Differ)\n",
      "        1    0.000    0.000    0.000    0.000 extras.py:10(<module>)\n",
      "        1    0.000    0.000    0.000    0.000 extras.py:1332(MAxisConcatenator)\n",
      "        1    0.000    0.000    0.000    0.000 extras.py:1344(__init__)\n",
      "        1    0.000    0.000    0.000    0.000 extras.py:1398(mr_class)\n",
      "        1    0.000    0.000    0.000    0.000 extras.py:1414(__init__)\n",
      "        1    0.000    0.000    0.000    0.000 extras.py:215(_fromnxfunction)\n",
      "        9    0.000    0.000    0.000    0.000 extras.py:232(__init__)\n",
      "        9    0.000    0.000    0.000    0.000 extras.py:236(getdoc)\n",
      "        1    0.000    0.000    0.000    0.000 fftpack.py:32(<module>)\n",
      "        1    0.000    0.000    0.000    0.000 financial.py:10(<module>)\n",
      "        1    0.000    0.000    0.000    0.000 fnmatch.py:11(<module>)\n",
      "        1    0.000    0.000    0.000    0.000 format.py:149(<module>)\n",
      "      100    0.000    0.000    0.001    0.000 fromnumeric.py:1987(all)\n",
      "        1    0.000    0.000    0.000    0.000 fromnumeric.py:2200(amax)\n",
      "        1    0.000    0.000    0.000    0.000 fromnumeric.py:3(<module>)\n",
      "        2    0.000    0.000    0.000    0.000 function_base.py:1(<module>)\n",
      "        1    0.000    0.000    0.000    0.000 function_base.py:2047(vectorize)\n",
      "      273    0.000    0.000    0.001    0.000 function_base.py:3944(add_newdoc)\n",
      "        8    0.000    0.000    0.000    0.000 functools.py:17(update_wrapper)\n",
      "        8    0.000    0.000    0.000    0.000 functools.py:39(wraps)\n",
      "        1    0.000    0.000    0.000    0.000 getlimits.py:195(iinfo)\n",
      "        5    0.000    0.000    0.000    0.000 getlimits.py:245(__init__)\n",
      "        1    0.000    0.000    0.000    0.000 getlimits.py:25(finfo)\n",
      "        2    0.000    0.000    0.000    0.000 getlimits.py:270(max)\n",
      "        1    0.000    0.000    0.000    0.000 getlimits.py:3(<module>)\n",
      "        6    0.000    0.000    0.000    0.000 hashlib.py:100(__get_openssl_constructor)\n",
      "        1    0.001    0.001    0.001    0.001 hashlib.py:56(<module>)\n",
      "        1    0.000    0.000    0.000    0.000 heapq.py:31(<module>)\n",
      "        1    0.000    0.000    0.000    0.000 helper.py:4(<module>)\n",
      "        1    0.000    0.000    0.000    0.000 hermite.py:1815(Hermite)\n",
      "        1    0.000    0.000    0.000    0.000 hermite.py:59(<module>)\n",
      "        1    0.000    0.000    0.000    0.000 hermite_e.py:1812(HermiteE)\n",
      "        1    0.000    0.000    0.000    0.000 hermite_e.py:59(<module>)\n",
      "        1    0.001    0.001    0.002    0.002 index_tricks.py:1(<module>)\n",
      "        2    0.000    0.000    0.000    0.000 index_tricks.py:148(__init__)\n",
      "        1    0.000    0.000    0.000    0.000 index_tricks.py:223(AxisConcatenator)\n",
      "        3    0.000    0.000    0.000    0.000 index_tricks.py:242(__init__)\n",
      "        1    0.000    0.000    0.000    0.000 index_tricks.py:352(RClass)\n",
      "        1    0.000    0.000    0.000    0.000 index_tricks.py:447(__init__)\n",
      "        1    0.000    0.000    0.000    0.000 index_tricks.py:452(CClass)\n",
      "        1    0.000    0.000    0.000    0.000 index_tricks.py:470(__init__)\n",
      "        1    0.000    0.000    0.000    0.000 index_tricks.py:475(ndenumerate)\n",
      "        1    0.000    0.000    0.000    0.000 index_tricks.py:525(ndindex)\n",
      "        1    0.000    0.000    0.000    0.000 index_tricks.py:603(IndexExpression)\n",
      "        2    0.000    0.000    0.000    0.000 index_tricks.py:647(__init__)\n",
      "        1    0.000    0.000    0.000    0.000 index_tricks.py:87(nd_grid)\n",
      "        1    0.000    0.000    0.000    0.000 info.py:154(<module>)\n",
      "        1    0.000    0.000    0.000    0.000 info.py:184(<module>)\n",
      "        1    0.000    0.000    0.000    0.000 info.py:34(<module>)\n",
      "        1    0.000    0.000    0.000    0.000 info.py:83(<module>)\n",
      "        1    0.000    0.000    0.000    0.000 info.py:86(<module>)\n",
      "        1    0.000    0.000    0.000    0.000 io.py:34(<module>)\n",
      "        1    0.000    0.000    0.000    0.000 io.py:69(IOBase)\n",
      "        1    0.000    0.000    0.000    0.000 io.py:73(RawIOBase)\n",
      "        1    0.000    0.000    0.000    0.000 io.py:76(BufferedIOBase)\n",
      "        1    0.000    0.000    0.000    0.000 io.py:79(TextIOBase)\n",
      "        1    0.000    0.000    0.000    0.000 keyword.py:11(<module>)\n",
      "        1    0.000    0.000    0.000    0.000 laguerre.py:1765(Laguerre)\n",
      "        1    0.000    0.000    0.000    0.000 laguerre.py:59(<module>)\n",
      "        1    0.000    0.000    0.000    0.000 legendre.py:1795(Legendre)\n",
      "        1    0.000    0.000    0.000    0.000 legendre.py:83(<module>)\n",
      "        1    0.000    0.000    0.000    0.000 linalg.py:10(<module>)\n",
      "      100    0.000    0.000    0.000    0.000 linalg.py:101(get_linalg_error_extobj)\n",
      "      100    0.000    0.000    0.000    0.000 linalg.py:106(_makearray)\n",
      "      300    0.000    0.000    0.000    0.000 linalg.py:111(isComplexType)\n",
      "      100    0.000    0.000    0.000    0.000 linalg.py:124(_realType)\n",
      "      100    0.000    0.000    0.000    0.000 linalg.py:127(_complexType)\n",
      "      100    0.000    0.000    0.000    0.000 linalg.py:139(_commonType)\n",
      "      100    0.000    0.000    0.000    0.000 linalg.py:198(_assertRankAtLeast2)\n",
      "      100    0.000    0.000    0.000    0.000 linalg.py:209(_assertNdSquareness)\n",
      "      100    0.002    0.000    0.003    0.000 linalg.py:214(_assertFinite)\n",
      "      100    0.000    0.000    0.000    0.000 linalg.py:219(_assertNoEmpty2d)\n",
      "        1    0.000    0.000    0.000    0.000 linalg.py:43(LinAlgError)\n",
      "        1    0.000    0.000    0.000    0.000 linalg.py:76(_determine_error_states)\n",
      "      100    0.316    0.003    0.321    0.003 linalg.py:832(eigvals)\n",
      "        1    0.000    0.000    0.000    0.000 loader.py:1(<module>)\n",
      "        1    0.000    0.000    0.000    0.000 loader.py:38(TestLoader)\n",
      "        1    0.000    0.000    0.000    0.000 machar.py:17(MachAr)\n",
      "        1    0.000    0.000    0.000    0.000 machar.py:7(<module>)\n",
      "        1    0.000    0.000    0.001    0.001 main.py:1(<module>)\n",
      "        1    0.000    0.000    0.000    0.000 main.py:63(TestProgram)\n",
      "        1    0.000    0.000    0.000    0.000 memmap.py:1(<module>)\n",
      "        1    0.000    0.000    0.000    0.000 memmap.py:20(memmap)\n",
      "        1    0.000    0.000    0.000    0.000 nanfunctions.py:19(<module>)\n",
      "        1    0.000    0.000    0.000    0.000 nosetester.py:128(NoseTester)\n",
      "       19    0.000    0.000    0.000    0.000 nosetester.py:170(__init__)\n",
      "       19    0.000    0.000    0.000    0.000 nosetester.py:511(_numpy_tester)\n",
      "        1    0.000    0.000    0.000    0.000 nosetester.py:6(<module>)\n",
      "        1    0.001    0.001    0.001    0.001 npyio.py:1(<module>)\n",
      "        1    0.000    0.000    0.000    0.000 npyio.py:40(BagObj)\n",
      "        1    0.000    0.000    0.000    0.000 npyio.py:95(NpzFile)\n",
      "       19    0.000    0.000    0.000    0.000 ntpath.py:174(split)\n",
      "       19    0.000    0.000    0.000    0.000 ntpath.py:213(dirname)\n",
      "       19    0.000    0.000    0.000    0.000 ntpath.py:96(splitdrive)\n",
      "        1    0.000    0.000    0.000    0.000 numbers.py:13(Number)\n",
      "        1    0.000    0.000    0.000    0.000 numbers.py:169(Real)\n",
      "        1    0.000    0.000    0.000    0.000 numbers.py:270(Rational)\n",
      "        1    0.000    0.000    0.000    0.000 numbers.py:295(Integral)\n",
      "        1    0.000    0.000    0.000    0.000 numbers.py:34(Complex)\n",
      "        1    0.000    0.000    0.001    0.001 numbers.py:6(<module>)\n",
      "        1    0.002    0.002    0.003    0.003 numeric.py:1(<module>)\n",
      "        2    0.000    0.000    0.000    0.000 numeric.py:1871(set_string_function)\n",
      "        2    0.000    0.000    0.000    0.000 numeric.py:2576(seterr)\n",
      "        2    0.000    0.000    0.000    0.000 numeric.py:2676(geterr)\n",
      "        1    0.000    0.000    0.000    0.000 numeric.py:2896(_unspecified)\n",
      "        1    0.000    0.000    0.000    0.000 numeric.py:2900(errstate)\n",
      "        1    0.000    0.000    0.000    0.000 numeric.py:2963(__init__)\n",
      "        1    0.000    0.000    0.000    0.000 numeric.py:2967(__enter__)\n",
      "        1    0.000    0.000    0.000    0.000 numeric.py:2972(__exit__)\n",
      "        1    0.000    0.000    0.000    0.000 numeric.py:2978(_setdef)\n",
      "        3    0.000    0.000    0.000    0.000 numeric.py:365(extend_all)\n",
      "      100    0.000    0.000    0.000    0.000 numeric.py:414(asarray)\n",
      "      100    0.000    0.000    0.000    0.000 numeric.py:484(asanyarray)\n",
      "        1    0.000    0.000    0.000    0.000 numeric.py:55(ComplexWarning)\n",
      "       72    0.000    0.000    0.000    0.000 numerictypes.py:127(english_lower)\n",
      "       39    0.000    0.000    0.000    0.000 numerictypes.py:154(english_upper)\n",
      "       13    0.000    0.000    0.000    0.000 numerictypes.py:181(english_capitalize)\n",
      "       21    0.000    0.000    0.000    0.000 numerictypes.py:216(_evalname)\n",
      "       26    0.000    0.000    0.000    0.000 numerictypes.py:229(bitname)\n",
      "        1    0.000    0.000    0.000    0.000 numerictypes.py:285(_add_types)\n",
      "        1    0.000    0.000    0.000    0.000 numerictypes.py:301(_add_aliases)\n",
      "        1    0.000    0.000    0.000    0.000 numerictypes.py:338(_add_integer_aliases)\n",
      "        1    0.000    0.000    0.000    0.000 numerictypes.py:379(_set_up_aliases)\n",
      "        1    0.000    0.000    0.000    0.000 numerictypes.py:428(_construct_char_code_lookup)\n",
      "       30    0.000    0.000    0.000    0.000 numerictypes.py:443(_add_array_type)\n",
      "        1    0.000    0.000    0.000    0.000 numerictypes.py:451(_set_array_types)\n",
      "        1    0.000    0.000    0.000    0.000 numerictypes.py:765(_typedict)\n",
      "        1    0.000    0.000    0.000    0.000 numerictypes.py:781(_construct_lookups)\n",
      "        1    0.001    0.001    0.002    0.002 numerictypes.py:82(<module>)\n",
      "        1    0.000    0.000    0.000    0.000 numerictypes.py:957(_register_types)\n",
      "        2    0.000    0.000    0.000    0.000 os.py:407(unsetenv)\n",
      "        2    0.000    0.000    0.000    0.000 os.py:421(__setitem__)\n",
      "        2    0.000    0.000    0.000    0.000 os.py:432(__delitem__)\n",
      "        2    0.000    0.000    0.000    0.000 os.py:444(__contains__)\n",
      "        1    0.000    0.000    0.000    0.000 os.py:446(get)\n",
      "        1    0.000    0.000    0.000    0.000 polynomial.py:1517(Polynomial)\n",
      "        1    0.000    0.000    0.000    0.000 polynomial.py:22(RankWarning)\n",
      "        1    0.000    0.000    0.001    0.001 polynomial.py:4(<module>)\n",
      "        1    0.000    0.000    0.001    0.001 polynomial.py:55(<module>)\n",
      "        1    0.000    0.000    0.000    0.000 polynomial.py:940(poly1d)\n",
      "        1    0.000    0.000    0.000    0.000 polyutils.py:45(<module>)\n",
      "        1    0.000    0.000    0.000    0.000 polyutils.py:58(RankWarning)\n",
      "        1    0.000    0.000    0.000    0.000 polyutils.py:62(PolyError)\n",
      "        1    0.000    0.000    0.000    0.000 polyutils.py:66(PolyDomainError)\n",
      "        1    0.000    0.000    0.000    0.000 polyutils.py:79(PolyBase)\n",
      "        1    0.000    0.000    0.000    0.000 pprint.py:35(<module>)\n",
      "        1    0.000    0.000    0.000    0.000 pprint.py:84(PrettyPrinter)\n",
      "        1    0.000    0.000    0.000    0.000 py3k.py:4(<module>)\n",
      "        1    0.000    0.000    0.000    0.000 py3k.py:71(sixu)\n",
      "        1    0.000    0.000    0.001    0.001 random.py:100(seed)\n",
      "        1    0.000    0.000    0.003    0.003 random.py:40(<module>)\n",
      "        1    0.000    0.000    0.000    0.000 random.py:655(WichmannHill)\n",
      "        1    0.000    0.000    0.000    0.000 random.py:72(Random)\n",
      "        1    0.000    0.000    0.000    0.000 random.py:805(SystemRandom)\n",
      "        1    0.000    0.000    0.001    0.001 random.py:91(__init__)\n",
      "       17    0.000    0.000    0.002    0.000 re.py:192(compile)\n",
      "       17    0.000    0.000    0.002    0.000 re.py:230(_compile)\n",
      "        1    0.000    0.000    0.000    0.000 records.py:215(record)\n",
      "        1    0.000    0.000    0.000    0.000 records.py:298(recarray)\n",
      "        1    0.000    0.000    0.000    0.000 records.py:36(<module>)\n",
      "        1    0.000    0.000    0.000    0.000 records.py:83(format_parser)\n",
      "        1    0.001    0.001    0.001    0.001 result.py:1(<module>)\n",
      "        3    0.000    0.000    0.000    0.000 result.py:14(failfast)\n",
      "        1    0.000    0.000    0.000    0.000 result.py:26(TestResult)\n",
      "        1    0.000    0.000    0.000    0.000 runner.py:1(<module>)\n",
      "        1    0.000    0.000    0.000    0.000 runner.py:119(TextTestRunner)\n",
      "        1    0.000    0.000    0.000    0.000 runner.py:12(_WritelnDecorator)\n",
      "        1    0.000    0.000    0.000    0.000 runner.py:28(TextTestResult)\n",
      "        1    0.000    0.000    0.000    0.000 scimath.py:17(<module>)\n",
      "        2    0.000    0.000    0.000    0.000 shape_base.py:1(<module>)\n",
      "        1    0.000    0.000    0.000    0.000 shutil.py:31(Error)\n",
      "        1    0.000    0.000    0.000    0.000 shutil.py:34(SpecialFileError)\n",
      "        1    0.000    0.000    0.000    0.000 shutil.py:38(ExecError)\n",
      "        1    0.001    0.001    0.001    0.001 shutil.py:5(<module>)\n",
      "        1    0.000    0.000    0.000    0.000 signals.py:1(<module>)\n",
      "        1    0.000    0.000    0.000    0.000 signals.py:9(_InterruptHandler)\n",
      "       66    0.000    0.000    0.000    0.000 sre_compile.py:101(fixup)\n",
      "       15    0.000    0.000    0.000    0.000 sre_compile.py:228(_compile_charset)\n",
      "       15    0.000    0.000    0.000    0.000 sre_compile.py:256(_optimize_charset)\n",
      "        4    0.000    0.000    0.000    0.000 sre_compile.py:411(_mk_bitmap)\n",
      "       21    0.000    0.000    0.000    0.000 sre_compile.py:428(_simple)\n",
      "       13    0.000    0.000    0.000    0.000 sre_compile.py:433(_compile_info)\n",
      "       26    0.000    0.000    0.000    0.000 sre_compile.py:546(isstring)\n",
      "       13    0.000    0.000    0.001    0.000 sre_compile.py:552(_code)\n",
      "       13    0.000    0.000    0.002    0.000 sre_compile.py:567(compile)\n",
      "    40/13    0.000    0.000    0.001    0.000 sre_compile.py:64(_compile)\n",
      "       85    0.000    0.000    0.000    0.000 sre_parse.py:137(__len__)\n",
      "      145    0.000    0.000    0.000    0.000 sre_parse.py:141(__getitem__)\n",
      "       21    0.000    0.000    0.000    0.000 sre_parse.py:145(__setitem__)\n",
      "      137    0.000    0.000    0.000    0.000 sre_parse.py:149(append)\n",
      "    61/34    0.000    0.000    0.000    0.000 sre_parse.py:151(getwidth)\n",
      "       13    0.000    0.000    0.000    0.000 sre_parse.py:189(__init__)\n",
      "      314    0.000    0.000    0.000    0.000 sre_parse.py:193(__next)\n",
      "      115    0.000    0.000    0.000    0.000 sre_parse.py:206(match)\n",
      "      270    0.000    0.000    0.000    0.000 sre_parse.py:212(get)\n",
      "       24    0.000    0.000    0.000    0.000 sre_parse.py:221(isident)\n",
      "        2    0.000    0.000    0.000    0.000 sre_parse.py:224(isdigit)\n",
      "        4    0.000    0.000    0.000    0.000 sre_parse.py:227(isname)\n",
      "       11    0.000    0.000    0.000    0.000 sre_parse.py:268(_escape)\n",
      "    19/13    0.000    0.000    0.001    0.000 sre_parse.py:317(_parse_sub)\n",
      "    19/13    0.000    0.000    0.001    0.000 sre_parse.py:395(_parse)\n",
      "       13    0.000    0.000    0.000    0.000 sre_parse.py:67(__init__)\n",
      "       13    0.000    0.000    0.001    0.000 sre_parse.py:706(parse)\n",
      "        5    0.000    0.000    0.000    0.000 sre_parse.py:74(opengroup)\n",
      "        5    0.000    0.000    0.000    0.000 sre_parse.py:85(closegroup)\n",
      "       40    0.000    0.000    0.000    0.000 sre_parse.py:92(__init__)\n",
      "        1    0.000    0.000    0.000    0.000 stride_tricks.py:15(DummyArray)\n",
      "        1    0.000    0.000    0.000    0.000 stride_tricks.py:7(<module>)\n",
      "        1    0.000    0.000    0.000    0.000 suite.py:1(<module>)\n",
      "        1    0.000    0.000    0.000    0.000 suite.py:16(BaseTestSuite)\n",
      "        1    0.000    0.000    0.000    0.000 suite.py:252(_ErrorHolder)\n",
      "        1    0.000    0.000    0.000    0.000 suite.py:299(_DebugResult)\n",
      "        1    0.000    0.000    0.000    0.000 suite.py:78(TestSuite)\n",
      "        1    0.000    0.000    0.000    0.000 tempfile.py:108(_RandomNameSequence)\n",
      "        1    0.001    0.001    0.004    0.004 tempfile.py:18(<module>)\n",
      "        1    0.000    0.000    0.000    0.000 tempfile.py:383(_TemporaryFileWrapper)\n",
      "        1    0.000    0.000    0.000    0.000 tempfile.py:519(SpooledTemporaryFile)\n",
      "        1    0.000    0.000    0.000    0.000 threading.py:1(<module>)\n",
      "        1    0.000    0.000    0.000    0.000 threading.py:1049(_Timer)\n",
      "        1    0.000    0.000    0.000    0.000 threading.py:1079(_MainThread)\n",
      "        1    0.000    0.000    0.000    0.000 threading.py:1081(__init__)\n",
      "        1    0.000    0.000    0.000    0.000 threading.py:1088(_set_daemon)\n",
      "        1    0.000    0.000    0.000    0.000 threading.py:1119(_DummyThread)\n",
      "        1    0.000    0.000    0.000    0.000 threading.py:125(_RLock)\n",
      "        2    0.000    0.000    0.000    0.000 threading.py:242(Condition)\n",
      "        1    0.000    0.000    0.000    0.000 threading.py:255(_Condition)\n",
      "        2    0.000    0.000    0.000    0.000 threading.py:260(__init__)\n",
      "        1    0.000    0.000    0.000    0.000 threading.py:285(__enter__)\n",
      "        1    0.000    0.000    0.000    0.000 threading.py:288(__exit__)\n",
      "        1    0.000    0.000    0.000    0.000 threading.py:300(_is_owned)\n",
      "        1    0.000    0.000    0.000    0.000 threading.py:373(notify)\n",
      "        1    0.000    0.000    0.000    0.000 threading.py:400(notifyAll)\n",
      "        1    0.000    0.000    0.000    0.000 threading.py:423(_Semaphore)\n",
      "        1    0.000    0.000    0.000    0.000 threading.py:515(_BoundedSemaphore)\n",
      "        1    0.000    0.000    0.000    0.000 threading.py:542(Event)\n",
      "        1    0.000    0.000    0.000    0.000 threading.py:552(_Event)\n",
      "        1    0.000    0.000    0.000    0.000 threading.py:561(__init__)\n",
      "        1    0.000    0.000    0.000    0.000 threading.py:57(_Verbose)\n",
      "        1    0.000    0.000    0.000    0.000 threading.py:576(set)\n",
      "        4    0.000    0.000    0.000    0.000 threading.py:59(__init__)\n",
      "        1    0.000    0.000    0.000    0.000 threading.py:631(Thread)\n",
      "        1    0.000    0.000    0.000    0.000 threading.py:64(_note)\n",
      "        1    0.000    0.000    0.000    0.000 threading.py:647(__init__)\n",
      "        1    0.000    0.000    0.000    0.000 threading.py:780(_set_ident)\n",
      "        1    0.000    0.000    0.000    0.000 twodim_base.py:3(<module>)\n",
      "        1    0.000    0.000    0.030    0.030 type_check.py:3(<module>)\n",
      "        1    0.000    0.000    0.000    0.000 ufunclike.py:5(<module>)\n",
      "        1    0.000    0.000    0.000    0.000 unicode_escape.py:13(Codec)\n",
      "        1    0.000    0.000    0.000    0.000 unicode_escape.py:20(IncrementalEncoder)\n",
      "        1    0.000    0.000    0.000    0.000 unicode_escape.py:24(IncrementalDecoder)\n",
      "        1    0.000    0.000    0.000    0.000 unicode_escape.py:28(StreamWriter)\n",
      "        1    0.000    0.000    0.000    0.000 unicode_escape.py:31(StreamReader)\n",
      "        1    0.000    0.000    0.000    0.000 unicode_escape.py:36(getregentry)\n",
      "        1    0.000    0.000    0.000    0.000 unicode_escape.py:8(<module>)\n",
      "        1    0.000    0.000    0.000    0.000 util.py:1(<module>)\n",
      "        1    0.000    0.000    0.000    0.000 utils.py:1(<module>)\n",
      "        1    0.000    0.000    0.000    0.000 utils.py:1002(SafeEval)\n",
      "        3    0.000    0.000    0.000    0.000 utils.py:117(deprecate)\n",
      "        1    0.000    0.000    0.000    0.000 utils.py:1580(WarningMessage)\n",
      "        1    0.000    0.000    0.000    0.000 utils.py:1612(WarningManager)\n",
      "        1    0.000    0.000    0.000    0.000 utils.py:1841(IgnoreException)\n",
      "        1    0.000    0.000    0.000    0.000 utils.py:1881(clear_and_catch_warnings)\n",
      "        1    0.000    0.000    0.000    0.000 utils.py:37(KnownFailureException)\n",
      "        1    0.002    0.002    0.007    0.007 utils.py:4(<module>)\n",
      "        3    0.000    0.000    0.000    0.000 utils.py:51(_set_function_name)\n",
      "        1    0.000    0.000    0.000    0.000 utils.py:56(_Deprecate)\n",
      "        3    0.000    0.000    0.000    0.000 utils.py:68(__init__)\n",
      "        3    0.000    0.000    0.000    0.000 utils.py:73(__call__)\n",
      "        1    0.000    0.000    0.000    0.000 version.py:5(<module>)\n",
      "        1    0.000    0.000    0.000    0.000 warnings.py:340(__init__)\n",
      "        1    0.000    0.000    0.000    0.000 warnings.py:361(__enter__)\n",
      "        1    0.000    0.000    0.000    0.000 warnings.py:377(__exit__)\n",
      "        5    0.000    0.000    0.001    0.000 warnings.py:67(filterwarnings)\n",
      "        1    0.000    0.000    0.000    0.000 warnings.py:96(simplefilter)\n",
      "        1    0.000    0.000    0.000    0.000 weakref.py:297(__init__)\n",
      "      274    0.000    0.000    0.001    0.000 {__import__}\n",
      "        1    0.000    0.000    0.000    0.000 {_ctypes.LoadLibrary}\n",
      "        2    0.000    0.000    0.000    0.000 {_ctypes.POINTER}\n",
      "        1    0.000    0.000    0.000    0.000 {_ctypes.set_conversion_mode}\n",
      "       50    0.000    0.000    0.000    0.000 {_ctypes.sizeof}\n",
      "        1    0.000    0.000    0.000    0.000 {_hashlib.openssl_md5}\n",
      "        1    0.000    0.000    0.000    0.000 {_hashlib.openssl_sha1}\n",
      "        1    0.000    0.000    0.000    0.000 {_hashlib.openssl_sha224}\n",
      "        1    0.000    0.000    0.000    0.000 {_hashlib.openssl_sha256}\n",
      "        1    0.000    0.000    0.000    0.000 {_hashlib.openssl_sha384}\n",
      "        1    0.000    0.000    0.000    0.000 {_hashlib.openssl_sha512}\n",
      "       13    0.000    0.000    0.000    0.000 {_sre.compile}\n",
      "      154    0.000    0.000    0.000    0.000 {_sre.getlower}\n",
      "       18    0.000    0.000    0.000    0.000 {_struct.calcsize}\n",
      "        8    0.000    0.000    0.000    0.000 {all}\n",
      "        1    0.000    0.000    0.000    0.000 {binascii.hexlify}\n",
      "       17    0.000    0.000    0.000    0.000 {built-in method __new__ of type object at 0x000000001E2A1710}\n",
      "      512    0.000    0.000    0.000    0.000 {chr}\n",
      "        1    0.000    0.000    0.000    0.000 {function seed at 0x000000000321F9E8}\n",
      "     1419    0.000    0.000    0.000    0.000 {getattr}\n",
      "      345    0.000    0.000    0.000    0.000 {globals}\n",
      "       27    0.000    0.000    0.000    0.000 {hasattr}\n",
      "      973    0.000    0.000    0.000    0.000 {isinstance}\n",
      "  489/461    0.000    0.000    0.000    0.000 {issubclass}\n",
      "1160/1138    0.000    0.000    0.000    0.000 {len}\n",
      "        5    0.000    0.000    0.000    0.000 {map}\n",
      "        1    0.000    0.000    0.000    0.000 {math.exp}\n",
      "        2    0.000    0.000    0.000    0.000 {math.log}\n",
      "        1    0.000    0.000    0.000    0.000 {math.sqrt}\n",
      "      100    0.000    0.000    0.000    0.000 {max}\n",
      "        8    0.000    0.000    0.000    0.000 {method '__contains__' of 'frozenset' objects}\n",
      "        1    0.000    0.000    0.000    0.000 {method '__enter__' of 'thread.lock' objects}\n",
      "        1    0.000    0.000    0.000    0.000 {method '__exit__' of 'thread.lock' objects}\n",
      "       20    0.000    0.000    0.000    0.000 {method '__subclasses__' of 'type' objects}\n",
      "       20    0.000    0.000    0.000    0.000 {method '__subclasshook__' of 'object' objects}\n",
      "        1    0.000    0.000    0.000    0.000 {method 'acquire' of 'thread.lock' objects}\n",
      "      117    0.000    0.000    0.000    0.000 {method 'add' of 'set' objects}\n",
      "      200    0.000    0.000    0.001    0.000 {method 'all' of 'numpy.ndarray' objects}\n",
      "     1515    0.000    0.000    0.000    0.000 {method 'append' of 'list' objects}\n",
      "      100    0.000    0.000    0.000    0.000 {method 'astype' of 'numpy.ndarray' objects}\n",
      "        3    0.000    0.000    0.000    0.000 {method 'clear' of 'dict' objects}\n",
      "        1    0.000    0.000    0.000    0.000 {method 'disable' of '_lsprof.Profiler' objects}\n",
      "       21    0.000    0.000    0.000    0.000 {method 'extend' of 'list' objects}\n",
      "       49    0.000    0.000    0.000    0.000 {method 'find' of 'bytearray' objects}\n",
      "        1    0.000    0.000    0.000    0.000 {method 'find' of 'str' objects}\n",
      "       16    0.000    0.000    0.000    0.000 {method 'format' of 'str' objects}\n",
      "      264    0.000    0.000    0.000    0.000 {method 'get' of 'dict' objects}\n",
      "        6    0.000    0.000    0.000    0.000 {method 'insert' of 'list' objects}\n",
      "       38    0.000    0.000    0.000    0.000 {method 'isalnum' of 'str' objects}\n",
      "        8    0.000    0.000    0.000    0.000 {method 'isdigit' of 'str' objects}\n",
      "       31    0.000    0.000    0.000    0.000 {method 'items' of 'dict' objects}\n",
      "       61    0.000    0.000    0.000    0.000 {method 'join' of 'str' objects}\n",
      "       17    0.000    0.000    0.000    0.000 {method 'keys' of 'dict' objects}\n",
      "      100    0.000    0.000    0.000    0.000 {method 'max' of 'numpy.ndarray' objects}\n",
      "        7    0.000    0.000    0.000    0.000 {method 'pop' of 'dict' objects}\n",
      "      100    0.027    0.000    0.027    0.000 {method 'randn' of 'mtrand.RandomState' objects}\n",
      "      301    0.001    0.000    0.001    0.000 {method 'reduce' of 'numpy.ufunc' objects}\n",
      "        5    0.000    0.000    0.000    0.000 {method 'remove' of 'list' objects}\n",
      "       20    0.000    0.000    0.000    0.000 {method 'remove' of 'set' objects}\n",
      "       24    0.000    0.000    0.000    0.000 {method 'replace' of 'str' objects}\n",
      "        1    0.000    0.000    0.000    0.000 {method 'rstrip' of 'str' objects}\n",
      "        2    0.000    0.000    0.000    0.000 {method 'setter' of 'property' objects}\n",
      "        3    0.000    0.000    0.000    0.000 {method 'split' of 'str' objects}\n",
      "      126    0.000    0.000    0.000    0.000 {method 'startswith' of 'str' objects}\n",
      "      269    0.000    0.000    0.000    0.000 {method 'strip' of 'str' objects}\n",
      "      116    0.000    0.000    0.000    0.000 {method 'translate' of 'str' objects}\n",
      "        1    0.000    0.000    0.000    0.000 {method 'union' of 'set' objects}\n",
      "       13    0.000    0.000    0.000    0.000 {method 'update' of 'dict' objects}\n",
      "        7    0.000    0.000    0.000    0.000 {method 'upper' of 'str' objects}\n",
      "        1    0.000    0.000    0.000    0.000 {method 'view' of 'numpy.ndarray' objects}\n",
      "      180    0.000    0.000    0.000    0.000 {min}\n",
      "        4    0.000    0.000    0.000    0.000 {nt.putenv}\n",
      "        1    0.001    0.001    0.001    0.001 {nt.urandom}\n",
      "      269    0.000    0.000    0.000    0.000 {numpy.core.multiarray.add_docstring}\n",
      "      238    0.000    0.000    0.000    0.000 {numpy.core.multiarray.array}\n",
      "       21    0.000    0.000    0.000    0.000 {numpy.core.multiarray.empty}\n",
      "        2    0.000    0.000    0.000    0.000 {numpy.core.multiarray.set_string_function}\n",
      "        1    0.000    0.000    0.000    0.000 {numpy.core.multiarray.set_typeDict}\n",
      "        6    0.000    0.000    0.000    0.000 {numpy.core.umath.geterrobj}\n",
      "        3    0.000    0.000    0.000    0.000 {numpy.core.umath.seterrobj}\n",
      "      148    0.000    0.000    0.000    0.000 {ord}\n",
      "       93    0.000    0.000    0.000    0.000 {range}\n",
      "       62    0.000    0.000    0.000    0.000 {repr}\n",
      "       26    0.000    0.000    0.000    0.000 {setattr}\n",
      "       21    0.000    0.000    0.000    0.000 {sys._getframe}\n",
      "        4    0.000    0.000    0.000    0.000 {thread.allocate_lock}\n",
      "        2    0.000    0.000    0.000    0.000 {thread.get_ident}\n",
      "        1    0.000    0.000    0.000    0.000 {zip}\n",
      "\n",
      "\n"
     ]
    }
   ],
   "source": [
    "!python -m cProfile lab_profiling/compute_max_value.py"
   ]
  },
  {
   "cell_type": "markdown",
   "metadata": {},
   "source": [
    "We can sort by cumtime by using -s flag"
   ]
  },
  {
   "cell_type": "code",
   "execution_count": 10,
   "metadata": {
    "collapsed": false
   },
   "outputs": [
    {
     "name": "stdout",
     "output_type": "stream",
     "text": [
      "Largest one we saw: 11.8801061309\n",
      "         15899 function calls (15778 primitive calls) in 0.392 seconds\n",
      "\n",
      "   Ordered by: cumulative time\n",
      "\n",
      "   ncalls  tottime  percall  cumtime  percall filename:lineno(function)\n",
      "        1    0.001    0.001    0.392    0.392 compute_max_value.py:1(<module>)\n",
      "        1    0.001    0.001    0.338    0.338 compute_max_value.py:4(run_experiment)\n",
      "      100    0.307    0.003    0.312    0.003 linalg.py:832(eigvals)\n",
      "        4    0.011    0.003    0.068    0.017 __init__.py:1(<module>)\n",
      "        1    0.004    0.004    0.053    0.053 __init__.py:106(<module>)\n",
      "        1    0.000    0.000    0.038    0.038 add_newdocs.py:10(<module>)\n",
      "        1    0.000    0.000    0.028    0.028 type_check.py:3(<module>)\n",
      "      100    0.026    0.000    0.026    0.000 {method 'randn' of 'mtrand.RandomState' objects}\n",
      "        1    0.001    0.001    0.014    0.014 __init__.py:7(<module>)\n",
      "        1    0.000    0.000    0.009    0.009 decorators.py:15(<module>)\n",
      "        1    0.002    0.002    0.008    0.008 utils.py:4(<module>)\n",
      "        1    0.001    0.001    0.006    0.006 _internal.py:6(<module>)\n",
      "        2    0.001    0.001    0.006    0.003 __init__.py:45(<module>)\n",
      "        1    0.001    0.001    0.005    0.005 tempfile.py:18(<module>)\n",
      "        1    0.002    0.002    0.004    0.004 __init__.py:15(<module>)\n",
      "        1    0.000    0.000    0.003    0.003 random.py:40(<module>)\n",
      "        1    0.001    0.001    0.003    0.003 __init__.py:41(<module>)\n",
      "        1    0.002    0.002    0.003    0.003 numeric.py:1(<module>)\n",
      "      100    0.002    0.000    0.002    0.000 linalg.py:214(_assertFinite)\n",
      "        1    0.002    0.002    0.002    0.002 __init__.py:88(<module>)\n",
      "       17    0.000    0.000    0.002    0.000 re.py:192(compile)\n",
      "       17    0.000    0.000    0.002    0.000 re.py:230(_compile)\n",
      "       13    0.000    0.000    0.002    0.000 sre_compile.py:567(compile)\n",
      "      273    0.001    0.000    0.002    0.000 function_base.py:3944(add_newdoc)\n",
      "        1    0.000    0.000    0.002    0.002 core.py:21(<module>)\n",
      "        1    0.000    0.000    0.002    0.002 random.py:91(__init__)\n",
      "        1    0.000    0.000    0.002    0.002 random.py:100(seed)\n",
      "        1    0.001    0.001    0.002    0.002 index_tricks.py:1(<module>)\n",
      "        1    0.000    0.000    0.002    0.002 polynomial.py:4(<module>)\n",
      "        1    0.001    0.001    0.001    0.001 case.py:1(<module>)\n",
      "        1    0.000    0.000    0.001    0.001 numerictypes.py:82(<module>)\n",
      "        1    0.001    0.001    0.001    0.001 npyio.py:1(<module>)\n",
      "        1    0.001    0.001    0.001    0.001 polynomial.py:55(<module>)\n",
      "        1    0.001    0.001    0.001    0.001 result.py:1(<module>)\n",
      "        1    0.001    0.001    0.001    0.001 hashlib.py:56(<module>)\n",
      "      301    0.001    0.000    0.001    0.000 {method 'reduce' of 'numpy.ufunc' objects}\n",
      "      200    0.000    0.000    0.001    0.000 {method 'all' of 'numpy.ndarray' objects}\n",
      "       13    0.000    0.000    0.001    0.000 sre_parse.py:706(parse)\n",
      "       16    0.000    0.000    0.001    0.000 abc.py:86(__new__)\n",
      "      200    0.000    0.000    0.001    0.000 _methods.py:40(_all)\n",
      "        1    0.001    0.001    0.001    0.001 shutil.py:5(<module>)\n",
      "        1    0.001    0.001    0.001    0.001 {nt.urandom}\n",
      "    19/13    0.000    0.000    0.001    0.000 sre_parse.py:317(_parse_sub)\n",
      "      100    0.000    0.000    0.001    0.000 fromnumeric.py:1987(all)\n",
      "        2    0.001    0.000    0.001    0.000 collections.py:305(namedtuple)\n",
      "    19/13    0.000    0.000    0.001    0.000 sre_parse.py:395(_parse)\n",
      "      274    0.001    0.000    0.001    0.000 {__import__}\n",
      "        1    0.001    0.001    0.001    0.001 collections.py:11(<module>)\n",
      "       13    0.000    0.000    0.001    0.000 sre_compile.py:552(_code)\n",
      "        1    0.001    0.001    0.001    0.001 linalg.py:10(<module>)\n",
      "        1    0.001    0.001    0.001    0.001 {function seed at 0x00000000032609E8}\n",
      "        5    0.000    0.000    0.001    0.000 warnings.py:67(filterwarnings)\n",
      "        1    0.001    0.001    0.001    0.001 core.py:2683(MaskedArray)\n",
      "        1    0.000    0.000    0.001    0.001 util.py:1(<module>)\n",
      "    40/13    0.000    0.000    0.000    0.000 sre_compile.py:64(_compile)\n",
      "     1419    0.000    0.000    0.000    0.000 {getattr}\n",
      "        1    0.000    0.000    0.000    0.000 difflib.py:27(<module>)\n",
      "        1    0.000    0.000    0.000    0.000 main.py:1(<module>)\n",
      "        1    0.000    0.000    0.000    0.000 io.py:34(<module>)\n",
      "        1    0.000    0.000    0.000    0.000 arrayprint.py:5(<module>)\n",
      "      100    0.000    0.000    0.000    0.000 {method 'max' of 'numpy.ndarray' objects}\n",
      "        1    0.000    0.000    0.000    0.000 __init__.py:10(<module>)\n",
      "        1    0.000    0.000    0.000    0.000 loader.py:1(<module>)\n",
      "        1    0.000    0.000    0.000    0.000 __init__.py:3(<module>)\n",
      "        1    0.000    0.000    0.000    0.000 numbers.py:6(<module>)\n",
      "        1    0.000    0.000    0.000    0.000 utils.py:1(<module>)\n",
      "        1    0.000    0.000    0.000    0.000 fftpack.py:32(<module>)\n",
      "      101    0.000    0.000    0.000    0.000 _methods.py:25(_amax)\n",
      "       43    0.000    0.000    0.000    0.000 core.py:113(get_object_signature)\n",
      "        1    0.000    0.000    0.000    0.000 threading.py:1(<module>)\n",
      "       26    0.000    0.000    0.000    0.000 core.py:6353(__init__)\n",
      "  489/461    0.000    0.000    0.000    0.000 {issubclass}\n",
      "       26    0.000    0.000    0.000    0.000 core.py:6358(getdoc)\n",
      "        2    0.000    0.000    0.000    0.000 function_base.py:1(<module>)\n",
      "      100    0.000    0.000    0.000    0.000 linalg.py:139(_commonType)\n",
      "        1    0.000    0.000    0.000    0.000 runner.py:1(<module>)\n",
      "       19    0.000    0.000    0.000    0.000 nosetester.py:511(_numpy_tester)\n",
      "       17    0.000    0.000    0.000    0.000 {built-in method __new__ of type object at 0x000000001E2A1710}\n",
      "        1    0.000    0.000    0.000    0.000 legendre.py:83(<module>)\n",
      "       64    0.000    0.000    0.000    0.000 _weakrefset.py:36(__init__)\n",
      "      100    0.000    0.000    0.000    0.000 linalg.py:209(_assertNdSquareness)\n",
      "       15    0.000    0.000    0.000    0.000 abc.py:105(register)\n",
      "       19    0.000    0.000    0.000    0.000 nosetester.py:170(__init__)\n",
      "      269    0.000    0.000    0.000    0.000 {method 'strip' of 'str' objects}\n",
      "      270    0.000    0.000    0.000    0.000 sre_parse.py:212(get)\n",
      "        1    0.000    0.000    0.000    0.000 _iotools.py:3(<module>)\n",
      "      300    0.000    0.000    0.000    0.000 linalg.py:111(isComplexType)\n",
      "    20/15    0.000    0.000    0.000    0.000 abc.py:148(__subclasscheck__)\n",
      "        1    0.000    0.000    0.000    0.000 py3k.py:71(sixu)\n",
      "       38    0.000    0.000    0.000    0.000 _inspect.py:142(formatargspec)\n",
      "       15    0.000    0.000    0.000    0.000 sre_compile.py:228(_compile_charset)\n",
      "       13    0.000    0.000    0.000    0.000 sre_compile.py:433(_compile_info)\n",
      "      314    0.000    0.000    0.000    0.000 sre_parse.py:193(__next)\n",
      "        1    0.000    0.000    0.000    0.000 __init__.py:71(search_function)\n",
      "      100    0.000    0.000    0.000    0.000 linalg.py:106(_makearray)\n",
      "        1    0.000    0.000    0.000    0.000 ctypeslib.py:51(<module>)\n",
      "        1    0.000    0.000    0.000    0.000 _polybase.py:8(<module>)\n",
      "        1    0.000    0.000    0.000    0.000 defmatrix.py:1(<module>)\n",
      "        1    0.000    0.000    0.000    0.000 numerictypes.py:301(_add_aliases)\n",
      "       15    0.000    0.000    0.000    0.000 sre_compile.py:256(_optimize_charset)\n",
      "        1    0.000    0.000    0.000    0.000 extras.py:10(<module>)\n",
      "        1    0.000    0.000    0.000    0.000 fromnumeric.py:3(<module>)\n",
      "       72    0.000    0.000    0.000    0.000 abc.py:89(<genexpr>)\n",
      "       19    0.000    0.000    0.000    0.000 ntpath.py:213(dirname)\n",
      "       43    0.000    0.000    0.000    0.000 _inspect.py:98(getargspec)\n",
      "      973    0.000    0.000    0.000    0.000 {isinstance}\n",
      "       19    0.000    0.000    0.000    0.000 ntpath.py:174(split)\n",
      "      100    0.000    0.000    0.000    0.000 {method 'astype' of 'numpy.ndarray' objects}\n",
      "    61/34    0.000    0.000    0.000    0.000 sre_parse.py:151(getwidth)\n",
      "       13    0.000    0.000    0.000    0.000 sre_parse.py:189(__init__)\n",
      "      100    0.000    0.000    0.000    0.000 {max}\n",
      "      100    0.000    0.000    0.000    0.000 linalg.py:101(get_linalg_error_extobj)\n",
      "     1515    0.000    0.000    0.000    0.000 {method 'append' of 'list' objects}\n",
      "      100    0.000    0.000    0.000    0.000 numeric.py:484(asanyarray)\n",
      "        1    0.000    0.000    0.000    0.000 polyutils.py:45(<module>)\n",
      "        3    0.000    0.000    0.000    0.000 numeric.py:365(extend_all)\n",
      "      238    0.000    0.000    0.000    0.000 {numpy.core.multiarray.array}\n",
      "        1    0.000    0.000    0.000    0.000 laguerre.py:59(<module>)\n",
      "        1    0.000    0.000    0.000    0.000 heapq.py:31(<module>)\n",
      "        1    0.000    0.000    0.000    0.000 signals.py:1(<module>)\n",
      "      100    0.000    0.000    0.000    0.000 linalg.py:198(_assertRankAtLeast2)\n",
      "      100    0.000    0.000    0.000    0.000 linalg.py:219(_assertNoEmpty2d)\n",
      "        1    0.000    0.000    0.000    0.000 _datasource.py:35(<module>)\n",
      "       27    0.000    0.000    0.000    0.000 core.py:903(__init__)\n",
      "        1    0.000    0.000    0.000    0.000 numerictypes.py:957(_register_types)\n",
      "      269    0.000    0.000    0.000    0.000 {numpy.core.multiarray.add_docstring}\n",
      "        9    0.000    0.000    0.000    0.000 extras.py:232(__init__)\n",
      "      145    0.000    0.000    0.000    0.000 sre_parse.py:141(__getitem__)\n",
      "       26    0.000    0.000    0.000    0.000 numerictypes.py:229(bitname)\n",
      "        9    0.000    0.000    0.000    0.000 extras.py:236(getdoc)\n",
      "       38    0.000    0.000    0.000    0.000 _inspect.py:67(getargs)\n",
      "        1    0.000    0.000    0.000    0.000 chebyshev.py:87(<module>)\n",
      "        1    0.000    0.000    0.000    0.000 hermite_e.py:59(<module>)\n",
      "        1    0.000    0.000    0.000    0.000 hermite.py:59(<module>)\n",
      "      100    0.000    0.000    0.000    0.000 numeric.py:414(asarray)\n",
      "1160/1138    0.000    0.000    0.000    0.000 {len}\n",
      "       43    0.000    0.000    0.000    0.000 _weakrefset.py:58(__iter__)\n",
      "       14    0.000    0.000    0.000    0.000 __init__.py:144(_check_size)\n",
      "        8    0.000    0.000    0.000    0.000 core.py:7777(__init__)\n",
      "        1    0.000    0.000    0.000    0.000 __init__.py:262(_reset_cache)\n",
      "      100    0.000    0.000    0.000    0.000 linalg.py:127(_complexType)\n",
      "       19    0.000    0.000    0.000    0.000 ntpath.py:96(splitdrive)\n",
      "        1    0.000    0.000    0.000    0.000 numerictypes.py:285(_add_types)\n",
      "        1    0.000    0.000    0.000    0.000 defchararray.py:17(<module>)\n",
      "        1    0.000    0.000    0.000    0.000 records.py:36(<module>)\n",
      "        8    0.000    0.000    0.000    0.000 core.py:7782(getdoc)\n",
      "        1    0.000    0.000    0.000    0.000 arrayterator.py:9(<module>)\n",
      "        1    0.000    0.000    0.000    0.000 suite.py:1(<module>)\n",
      "        1    0.000    0.000    0.000    0.000 _import_tools.py:1(<module>)\n",
      "       18    0.000    0.000    0.000    0.000 core.py:981(__init__)\n",
      "      100    0.000    0.000    0.000    0.000 linalg.py:124(_realType)\n",
      "        3    0.000    0.000    0.000    0.000 __init__.py:75(CFUNCTYPE)\n",
      "        1    0.000    0.000    0.000    0.000 _endian.py:1(<module>)\n",
      "       61    0.000    0.000    0.000    0.000 {method 'join' of 'str' objects}\n",
      "        8    0.000    0.000    0.000    0.000 functools.py:17(update_wrapper)\n",
      "      115    0.000    0.000    0.000    0.000 sre_parse.py:206(match)\n",
      "      137    0.000    0.000    0.000    0.000 sre_parse.py:149(append)\n",
      "        2    0.000    0.000    0.000    0.000 __init__.py:346(__init__)\n",
      "      264    0.000    0.000    0.000    0.000 {method 'get' of 'dict' objects}\n",
      "        1    0.000    0.000    0.000    0.000 numerictypes.py:451(_set_array_types)\n",
      "        5    0.000    0.000    0.000    0.000 contextlib.py:54(contextmanager)\n",
      "        1    0.000    0.000    0.000    0.000 _polybase.py:19(ABCPolyBase)\n",
      "        1    0.000    0.000    0.000    0.000 threading.py:1081(__init__)\n",
      "        1    0.000    0.000    0.000    0.000 contextlib.py:1(<module>)\n",
      "       16    0.000    0.000    0.000    0.000 {method 'format' of 'str' objects}\n",
      "        1    0.000    0.000    0.000    0.000 _globals.py:17(<module>)\n",
      "        1    0.000    0.000    0.000    0.000 twodim_base.py:3(<module>)\n",
      "       60    0.000    0.000    0.000    0.000 _inspect.py:146(<lambda>)\n",
      "       98    0.000    0.000    0.000    0.000 _inspect.py:133(strseq)\n",
      "        4    0.000    0.000    0.000    0.000 {nt.putenv}\n",
      "        1    0.000    0.000    0.000    0.000 result.py:26(TestResult)\n",
      "        1    0.000    0.000    0.000    0.000 scimath.py:17(<module>)\n",
      "        1    0.000    0.000    0.000    0.000 getlimits.py:3(<module>)\n",
      "        1    0.000    0.000    0.000    0.000 _iotools.py:473(StringConverter)\n",
      "        1    0.000    0.000    0.000    0.000 unicode_escape.py:8(<module>)\n",
      "        1    0.000    0.000    0.000    0.000 helper.py:4(<module>)\n",
      "        1    0.000    0.000    0.000    0.000 linalg.py:76(_determine_error_states)\n",
      "        1    0.000    0.000    0.000    0.000 nosetester.py:6(<module>)\n",
      "      180    0.000    0.000    0.000    0.000 {min}\n",
      "        8    0.000    0.000    0.000    0.000 {all}\n",
      "        3    0.000    0.000    0.000    0.000 __init__.py:490(PYFUNCTYPE)\n",
      "        5    0.000    0.000    0.000    0.000 getlimits.py:245(__init__)\n",
      "       21    0.000    0.000    0.000    0.000 sre_compile.py:428(_simple)\n",
      "        1    0.000    0.000    0.000    0.000 memmap.py:1(<module>)\n",
      "        5    0.000    0.000    0.000    0.000 {map}\n",
      "      512    0.000    0.000    0.000    0.000 {chr}\n",
      "       30    0.000    0.000    0.000    0.000 numerictypes.py:443(_add_array_type)\n",
      "        2    0.000    0.000    0.000    0.000 {_ctypes.POINTER}\n",
      "        1    0.000    0.000    0.000    0.000 numbers.py:34(Complex)\n",
      "        4    0.000    0.000    0.000    0.000 sre_compile.py:411(_mk_bitmap)\n",
      "       12    0.000    0.000    0.000    0.000 ctypeslib.py:330(prep_simple)\n",
      "       62    0.000    0.000    0.000    0.000 {repr}\n",
      "        1    0.000    0.000    0.000    0.000 __future__.py:48(<module>)\n",
      "        1    0.000    0.000    0.000    0.000 numerictypes.py:781(_construct_lookups)\n",
      "        1    0.000    0.000    0.000    0.000 numerictypes.py:338(_add_integer_aliases)\n",
      "       46    0.000    0.000    0.000    0.000 collections.py:349(<genexpr>)\n",
      "        3    0.000    0.000    0.000    0.000 utils.py:117(deprecate)\n",
      "       21    0.000    0.000    0.000    0.000 {numpy.core.multiarray.empty}\n",
      "        2    0.000    0.000    0.000    0.000 os.py:421(__setitem__)\n",
      "        1    0.000    0.000    0.000    0.000 threading.py:647(__init__)\n",
      "       21    0.000    0.000    0.000    0.000 numerictypes.py:216(_evalname)\n",
      "       20    0.000    0.000    0.000    0.000 _weakrefset.py:26(__exit__)\n",
      "        1    0.000    0.000    0.000    0.000 __init__.py:429(__getattr__)\n",
      "        1    0.000    0.000    0.000    0.000 <string>:1(<module>)\n",
      "      154    0.000    0.000    0.000    0.000 {_sre.getlower}\n",
      "        6    0.000    0.000    0.000    0.000 core.py:1139(__init__)\n",
      "       93    0.000    0.000    0.000    0.000 {range}\n",
      "        3    0.000    0.000    0.000    0.000 utils.py:73(__call__)\n",
      "        1    0.000    0.000    0.000    0.000 format.py:149(<module>)\n",
      "        3    0.000    0.000    0.000    0.000 result.py:14(failfast)\n",
      "        2    0.000    0.000    0.000    0.000 os.py:432(__delitem__)\n",
      "       72    0.000    0.000    0.000    0.000 numerictypes.py:127(english_lower)\n",
      "       66    0.000    0.000    0.000    0.000 sre_compile.py:101(fixup)\n",
      "        1    0.000    0.000    0.000    0.000 machar.py:7(<module>)\n",
      "        1    0.000    0.000    0.000    0.000 fromnumeric.py:2200(amax)\n",
      "        1    0.000    0.000    0.000    0.000 info.py:154(<module>)\n",
      "       35    0.000    0.000    0.000    0.000 _weakrefset.py:83(add)\n",
      "       85    0.000    0.000    0.000    0.000 sre_parse.py:137(__len__)\n",
      "        1    0.000    0.000    0.000    0.000 {binascii.hexlify}\n",
      "       31    0.000    0.000    0.000    0.000 {method 'items' of 'dict' objects}\n",
      "        2    0.000    0.000    0.000    0.000 shape_base.py:1(<module>)\n",
      "       43    0.000    0.000    0.000    0.000 _inspect.py:15(ismethod)\n",
      "        1    0.000    0.000    0.000    0.000 stride_tricks.py:7(<module>)\n",
      "      345    0.000    0.000    0.000    0.000 {globals}\n",
      "        2    0.000    0.000    0.000    0.000 os.py:407(unsetenv)\n",
      "        1    0.000    0.000    0.000    0.000 _version.py:7(<module>)\n",
      "       26    0.000    0.000    0.000    0.000 sre_compile.py:546(isstring)\n",
      "        1    0.000    0.000    0.000    0.000 tempfile.py:383(_TemporaryFileWrapper)\n",
      "        1    0.000    0.000    0.000    0.000 defchararray.py:1669(chararray)\n",
      "       13    0.000    0.000    0.000    0.000 {_sre.compile}\n",
      "        1    0.000    0.000    0.000    0.000 numerictypes.py:428(_construct_char_code_lookup)\n",
      "        1    0.000    0.000    0.000    0.000 __future__.py:74(_Feature)\n",
      "       24    0.000    0.000    0.000    0.000 {method 'replace' of 'str' objects}\n",
      "       11    0.000    0.000    0.000    0.000 sre_parse.py:268(_escape)\n",
      "        1    0.000    0.000    0.000    0.000 financial.py:10(<module>)\n",
      "        2    0.000    0.000    0.000    0.000 numeric.py:2576(seterr)\n",
      "        8    0.000    0.000    0.000    0.000 collections.py:375(<genexpr>)\n",
      "        1    0.000    0.000    0.000    0.000 polynomial.py:1517(Polynomial)\n",
      "      126    0.000    0.000    0.000    0.000 {method 'startswith' of 'str' objects}\n",
      "        1    0.000    0.000    0.000    0.000 numeric.py:2967(__enter__)\n",
      "       40    0.000    0.000    0.000    0.000 sre_parse.py:92(__init__)\n",
      "       49    0.000    0.000    0.000    0.000 {method 'find' of 'bytearray' objects}\n",
      "        1    0.000    0.000    0.000    0.000 _methods.py:5(<module>)\n",
      "       43    0.000    0.000    0.000    0.000 _inspect.py:28(isfunction)\n",
      "        1    0.000    0.000    0.000    0.000 nanfunctions.py:19(<module>)\n",
      "       20    0.000    0.000    0.000    0.000 _weakrefset.py:20(__enter__)\n",
      "        1    0.000    0.000    0.000    0.000 arraypad.py:5(<module>)\n",
      "      117    0.000    0.000    0.000    0.000 {method 'add' of 'set' objects}\n",
      "        6    0.000    0.000    0.000    0.000 hashlib.py:100(__get_openssl_constructor)\n",
      "        1    0.000    0.000    0.000    0.000 _iotools.py:250(NameValidator)\n",
      "       38    0.000    0.000    0.000    0.000 _inspect.py:43(iscode)\n",
      "        9    0.000    0.000    0.000    0.000 core.py:2521(_arraymethod)\n",
      "        2    0.000    0.000    0.000    0.000 threading.py:242(Condition)\n",
      "        1    0.000    0.000    0.000    0.000 threading.py:542(Event)\n",
      "       21    0.000    0.000    0.000    0.000 {method 'extend' of 'list' objects}\n",
      "        1    0.000    0.000    0.000    0.000 threading.py:576(set)\n",
      "        4    0.000    0.000    0.000    0.000 sre_parse.py:227(isname)\n",
      "        1    0.000    0.000    0.000    0.000 pprint.py:35(<module>)\n",
      "        1    0.000    0.000    0.000    0.000 numerictypes.py:379(_set_up_aliases)\n",
      "        1    0.000    0.000    0.000    0.000 __init__.py:372(__getattr__)\n",
      "        1    0.000    0.000    0.000    0.000 case.py:131(TestCase)\n",
      "        1    0.000    0.000    0.000    0.000 threading.py:561(__init__)\n",
      "       17    0.000    0.000    0.000    0.000 {method 'keys' of 'dict' objects}\n",
      "      116    0.000    0.000    0.000    0.000 {method 'translate' of 'str' objects}\n",
      "       39    0.000    0.000    0.000    0.000 numerictypes.py:154(english_upper)\n",
      "       27    0.000    0.000    0.000    0.000 {hasattr}\n",
      "        1    0.000    0.000    0.000    0.000 threading.py:631(Thread)\n",
      "        2    0.000    0.000    0.000    0.000 threading.py:260(__init__)\n",
      "       24    0.000    0.000    0.000    0.000 _weakrefset.py:70(__contains__)\n",
      "       18    0.000    0.000    0.000    0.000 {_struct.calcsize}\n",
      "       49    0.000    0.000    0.000    0.000 abc.py:15(abstractmethod)\n",
      "        1    0.000    0.000    0.000    0.000 StringIO.py:30(<module>)\n",
      "        1    0.000    0.000    0.000    0.000 _inspect.py:7(<module>)\n",
      "      148    0.000    0.000    0.000    0.000 {ord}\n",
      "        1    0.000    0.000    0.000    0.000 defmatrix.py:208(matrix)\n",
      "       13    0.000    0.000    0.000    0.000 numerictypes.py:181(english_capitalize)\n",
      "        1    0.000    0.000    0.000    0.000 os.py:446(get)\n",
      "       13    0.000    0.000    0.000    0.000 sre_parse.py:67(__init__)\n",
      "        8    0.000    0.000    0.000    0.000 collections.py:373(<genexpr>)\n",
      "        1    0.000    0.000    0.000    0.000 py3k.py:4(<module>)\n",
      "       21    0.000    0.000    0.000    0.000 {sys._getframe}\n",
      "        1    0.000    0.000    0.000    0.000 unicode_escape.py:36(getregentry)\n",
      "        2    0.000    0.000    0.000    0.000 numeric.py:2676(geterr)\n",
      "        8    0.000    0.000    0.000    0.000 functools.py:39(wraps)\n",
      "        1    0.000    0.000    0.000    0.000 numbers.py:295(Integral)\n",
      "        1    0.000    0.000    0.000    0.000 collections.py:38(OrderedDict)\n",
      "        1    0.000    0.000    0.000    0.000 __init__.py:379(__getitem__)\n",
      "        1    0.000    0.000    0.000    0.000 polynomial.py:940(poly1d)\n",
      "        5    0.000    0.000    0.000    0.000 sre_parse.py:74(opengroup)\n",
      "        1    0.000    0.000    0.000    0.000 arraysetops.py:26(<module>)\n",
      "        1    0.000    0.000    0.000    0.000 numbers.py:169(Real)\n",
      "        1    0.000    0.000    0.000    0.000 core.py:2352(_MaskedPrintOption)\n",
      "        1    0.000    0.000    0.000    0.000 keyword.py:11(<module>)\n",
      "        1    0.000    0.000    0.000    0.000 collections.py:407(Counter)\n",
      "        1    0.000    0.000    0.000    0.000 <string>:1(Mismatch)\n",
      "        1    0.000    0.000    0.000    0.000 arrayterator.py:20(Arrayterator)\n",
      "        1    0.000    0.000    0.000    0.000 laguerre.py:1765(Laguerre)\n",
      "       20    0.000    0.000    0.000    0.000 _weakrefset.py:16(__init__)\n",
      "       13    0.000    0.000    0.000    0.000 {method 'update' of 'dict' objects}\n",
      "        1    0.000    0.000    0.000    0.000 core.py:6111(__new__)\n",
      "        2    0.000    0.000    0.000    0.000 numeric.py:1871(set_string_function)\n",
      "        1    0.000    0.000    0.000    0.000 legendre.py:1795(Legendre)\n",
      "        1    0.000    0.000    0.000    0.000 random.py:72(Random)\n",
      "        3    0.000    0.000    0.000    0.000 {numpy.core.umath.seterrobj}\n",
      "        1    0.000    0.000    0.000    0.000 {zip}\n",
      "        1    0.000    0.000    0.000    0.000 __init__.py:49(normalize_encoding)\n",
      "        1    0.000    0.000    0.000    0.000 <string>:1(Match)\n",
      "        1    0.000    0.000    0.000    0.000 tempfile.py:519(SpooledTemporaryFile)\n",
      "        4    0.000    0.000    0.000    0.000 core.py:94(doc_note)\n",
      "       26    0.000    0.000    0.000    0.000 {setattr}\n",
      "       20    0.000    0.000    0.000    0.000 _weakrefset.py:52(_commit_removals)\n",
      "       50    0.000    0.000    0.000    0.000 {_ctypes.sizeof}\n",
      "        1    0.000    0.000    0.000    0.000 chebyshev.py:2041(Chebyshev)\n",
      "        1    0.000    0.000    0.000    0.000 ufunclike.py:5(<module>)\n",
      "        4    0.000    0.000    0.000    0.000 {thread.allocate_lock}\n",
      "        1    0.000    0.000    0.000    0.000 numeric.py:2978(_setdef)\n",
      "        1    0.000    0.000    0.000    0.000 extras.py:1414(__init__)\n",
      "        1    0.000    0.000    0.000    0.000 hermite_e.py:1812(HermiteE)\n",
      "        1    0.000    0.000    0.000    0.000 hermite.py:1815(Hermite)\n",
      "        1    0.000    0.000    0.000    0.000 info.py:184(<module>)\n",
      "        5    0.000    0.000    0.000    0.000 sre_parse.py:85(closegroup)\n",
      "        1    0.000    0.000    0.000    0.000 {_ctypes.LoadLibrary}\n",
      "        1    0.000    0.000    0.000    0.000 info.py:83(<module>)\n",
      "        1    0.000    0.000    0.000    0.000 _datasource.py:154(DataSource)\n",
      "        2    0.000    0.000    0.000    0.000 getlimits.py:270(max)\n",
      "        1    0.000    0.000    0.000    0.000 threading.py:400(notifyAll)\n",
      "        1    0.000    0.000    0.000    0.000 core.py:6104(MaskedConstant)\n",
      "        1    0.000    0.000    0.000    0.000 warnings.py:96(simplefilter)\n",
      "        1    0.000    0.000    0.000    0.000 _internal.py:226(_ctypes)\n",
      "        3    0.000    0.000    0.000    0.000 index_tricks.py:242(__init__)\n",
      "        1    0.000    0.000    0.000    0.000 {math.exp}\n",
      "        1    0.000    0.000    0.000    0.000 tempfile.py:108(_RandomNameSequence)\n",
      "        1    0.000    0.000    0.000    0.000 _datasource.py:50(_FileOpeners)\n",
      "       21    0.000    0.000    0.000    0.000 sre_parse.py:145(__setitem__)\n",
      "        1    0.000    0.000    0.000    0.000 {method 'view' of 'numpy.ndarray' objects}\n",
      "        1    0.000    0.000    0.000    0.000 fnmatch.py:11(<module>)\n",
      "        1    0.000    0.000    0.000    0.000 numeric.py:2972(__exit__)\n",
      "        1    0.000    0.000    0.000    0.000 info.py:86(<module>)\n",
      "        1    0.000    0.000    0.000    0.000 numeric.py:2963(__init__)\n",
      "        2    0.000    0.000    0.000    0.000 {numpy.core.multiarray.set_string_function}\n",
      "        1    0.000    0.000    0.000    0.000 _iotools.py:154(LineSplitter)\n",
      "        1    0.000    0.000    0.000    0.000 copy_reg.py:14(pickle)\n",
      "        1    0.000    0.000    0.000    0.000 extras.py:1344(__init__)\n",
      "        1    0.000    0.000    0.000    0.000 info.py:34(<module>)\n",
      "        1    0.000    0.000    0.000    0.000 __config__.py:3(<module>)\n",
      "        1    0.000    0.000    0.000    0.000 _version.py:18(NumpyVersion)\n",
      "        1    0.000    0.000    0.000    0.000 codecs.py:92(__new__)\n",
      "       24    0.000    0.000    0.000    0.000 sre_parse.py:221(isident)\n",
      "        1    0.000    0.000    0.000    0.000 npyio.py:95(NpzFile)\n",
      "        1    0.000    0.000    0.000    0.000 threading.py:373(notify)\n",
      "        1    0.000    0.000    0.000    0.000 core.py:885(_MaskedUnaryOperation)\n",
      "        1    0.000    0.000    0.000    0.000 index_tricks.py:447(__init__)\n",
      "        7    0.000    0.000    0.000    0.000 __future__.py:75(__init__)\n",
      "        1    0.000    0.000    0.000    0.000 _internal.py:200(_getintp_ctype)\n",
      "       20    0.000    0.000    0.000    0.000 {method '__subclasses__' of 'type' objects}\n",
      "        1    0.000    0.000    0.000    0.000 getlimits.py:195(iinfo)\n",
      "        1    0.000    0.000    0.000    0.000 StringIO.py:42(StringIO)\n",
      "        1    0.000    0.000    0.000    0.000 main.py:63(TestProgram)\n",
      "        3    0.000    0.000    0.000    0.000 utils.py:68(__init__)\n",
      "       20    0.000    0.000    0.000    0.000 {method 'remove' of 'set' objects}\n",
      "        6    0.000    0.000    0.000    0.000 {method 'insert' of 'list' objects}\n",
      "        1    0.000    0.000    0.000    0.000 core.py:5902(mvoid)\n",
      "        1    0.000    0.000    0.000    0.000 suite.py:252(_ErrorHolder)\n",
      "       38    0.000    0.000    0.000    0.000 {method 'isalnum' of 'str' objects}\n",
      "        1    0.000    0.000    0.000    0.000 threading.py:285(__enter__)\n",
      "        2    0.000    0.000    0.000    0.000 {math.log}\n",
      "        3    0.000    0.000    0.000    0.000 {method 'split' of 'str' objects}\n",
      "        2    0.000    0.000    0.000    0.000 os.py:444(__contains__)\n",
      "        1    0.000    0.000    0.000    0.000 index_tricks.py:470(__init__)\n",
      "        1    0.000    0.000    0.000    0.000 difflib.py:1670(HtmlDiff)\n",
      "        1    0.000    0.000    0.000    0.000 weakref.py:297(__init__)\n",
      "        1    0.000    0.000    0.000    0.000 warnings.py:340(__init__)\n",
      "        1    0.000    0.000    0.000    0.000 io.py:69(IOBase)\n",
      "        1    0.000    0.000    0.000    0.000 warnings.py:361(__enter__)\n",
      "        1    0.000    0.000    0.000    0.000 numbers.py:270(Rational)\n",
      "       20    0.000    0.000    0.000    0.000 {method '__subclasshook__' of 'object' objects}\n",
      "        1    0.000    0.000    0.000    0.000 {method 'union' of 'set' objects}\n",
      "        1    0.000    0.000    0.000    0.000 nosetester.py:128(NoseTester)\n",
      "        1    0.000    0.000    0.000    0.000 threading.py:552(_Event)\n",
      "        1    0.000    0.000    0.000    0.000 __init__.py:329(CDLL)\n",
      "        1    0.000    0.000    0.000    0.000 runner.py:28(TextTestResult)\n",
      "        7    0.000    0.000    0.000    0.000 case.py:607(_deprecate)\n",
      "        1    0.000    0.000    0.000    0.000 {_hashlib.openssl_md5}\n",
      "        1    0.000    0.000    0.000    0.000 loader.py:38(TestLoader)\n",
      "        1    0.000    0.000    0.000    0.000 {method 'find' of 'str' objects}\n",
      "        1    0.000    0.000    0.000    0.000 threading.py:300(_is_owned)\n",
      "        1    0.000    0.000    0.000    0.000 threading.py:288(__exit__)\n",
      "        1    0.000    0.000    0.000    0.000 core.py:6289(__init__)\n",
      "        2    0.000    0.000    0.000    0.000 {method 'setter' of 'property' objects}\n",
      "        1    0.000    0.000    0.000    0.000 _datasource.py:74(__init__)\n",
      "        4    0.000    0.000    0.000    0.000 threading.py:59(__init__)\n",
      "        1    0.000    0.000    0.000    0.000 _datasource.py:504(Repository)\n",
      "        1    0.000    0.000    0.000    0.000 difflib.py:44(SequenceMatcher)\n",
      "        1    0.000    0.000    0.000    0.000 _import_tools.py:9(PackageLoader)\n",
      "        1    0.000    0.000    0.000    0.000 suite.py:16(BaseTestSuite)\n",
      "        1    0.000    0.000    0.000    0.000 ctypeslib.py:177(_ndptr)\n",
      "        8    0.000    0.000    0.000    0.000 {method '__contains__' of 'frozenset' objects}\n",
      "        7    0.000    0.000    0.000    0.000 {method 'upper' of 'str' objects}\n",
      "        3    0.000    0.000    0.000    0.000 __init__.py:101(CFunctionType)\n",
      "        1    0.000    0.000    0.000    0.000 random.py:655(WichmannHill)\n",
      "        1    0.000    0.000    0.000    0.000 threading.py:125(_RLock)\n",
      "        1    0.000    0.000    0.000    0.000 pprint.py:84(PrettyPrinter)\n",
      "        1    0.000    0.000    0.000    0.000 npyio.py:40(BagObj)\n",
      "        4    0.000    0.000    0.000    0.000 __init__.py:426(__init__)\n",
      "        1    0.000    0.000    0.000    0.000 runner.py:119(TextTestRunner)\n",
      "        1    0.000    0.000    0.000    0.000 index_tricks.py:475(ndenumerate)\n",
      "        3    0.000    0.000    0.000    0.000 utils.py:51(_set_function_name)\n",
      "        1    0.000    0.000    0.000    0.000 arrayprint.py:712(DatetimeFormat)\n",
      "        1    0.000    0.000    0.000    0.000 threading.py:255(_Condition)\n",
      "        1    0.000    0.000    0.000    0.000 case.py:1018(FunctionTestCase)\n",
      "        1    0.000    0.000    0.000    0.000 suite.py:78(TestSuite)\n",
      "        3    0.000    0.000    0.000    0.000 core.py:805(__init__)\n",
      "        1    0.000    0.000    0.000    0.000 utils.py:1002(SafeEval)\n",
      "        1    0.000    0.000    0.000    0.000 records.py:298(recarray)\n",
      "        5    0.000    0.000    0.000    0.000 {method 'remove' of 'list' objects}\n",
      "        1    0.000    0.000    0.000    0.000 memmap.py:20(memmap)\n",
      "        1    0.000    0.000    0.000    0.000 warnings.py:377(__exit__)\n",
      "        1    0.000    0.000    0.000    0.000 getlimits.py:25(finfo)\n",
      "        2    0.000    0.000    0.000    0.000 index_tricks.py:148(__init__)\n",
      "        1    0.000    0.000    0.000    0.000 io.py:76(BufferedIOBase)\n",
      "        1    0.000    0.000    0.000    0.000 random.py:805(SystemRandom)\n",
      "        1    0.000    0.000    0.000    0.000 utils.py:56(_Deprecate)\n",
      "        1    0.000    0.000    0.000    0.000 function_base.py:2047(vectorize)\n",
      "        1    0.000    0.000    0.000    0.000 {_ctypes.set_conversion_mode}\n",
      "        3    0.000    0.000    0.000    0.000 core.py:861(__init__)\n",
      "        1    0.000    0.000    0.000    0.000 core.py:6271(_minimum_operation)\n",
      "        1    0.000    0.000    0.000    0.000 threading.py:1049(_Timer)\n",
      "        1    0.000    0.000    0.000    0.000 arrayprint.py:528(FloatFormat)\n",
      "        1    0.000    0.000    0.000    0.000 linalg.py:43(LinAlgError)\n",
      "        1    0.000    0.000    0.000    0.000 index_tricks.py:87(nd_grid)\n",
      "        1    0.000    0.000    0.000    0.000 __init__.py:156(py_object)\n",
      "        1    0.000    0.000    0.000    0.000 __init__.py:385(PyDLL)\n",
      "        1    0.000    0.000    0.000    0.000 difflib.py:764(Differ)\n",
      "        7    0.000    0.000    0.000    0.000 {method 'pop' of 'dict' objects}\n",
      "        1    0.000    0.000    0.000    0.000 unicode_escape.py:13(Codec)\n",
      "        1    0.000    0.000    0.000    0.000 records.py:215(record)\n",
      "        3    0.000    0.000    0.000    0.000 __init__.py:491(CFunctionType)\n",
      "        1    0.000    0.000    0.000    0.000 threading.py:780(_set_ident)\n",
      "        1    0.000    0.000    0.000    0.000 core.py:6275(__init__)\n",
      "        1    0.000    0.000    0.000    0.000 core.py:961(_MaskedBinaryOperation)\n",
      "        1    0.000    0.000    0.000    0.000 threading.py:423(_Semaphore)\n",
      "        2    0.000    0.000    0.000    0.000 __init__.py:356(_FuncPtr)\n",
      "        1    0.000    0.000    0.000    0.000 {math.sqrt}\n",
      "        1    0.000    0.000    0.000    0.000 utils.py:1580(WarningMessage)\n",
      "        1    0.000    0.000    0.000    0.000 utils.py:1881(clear_and_catch_warnings)\n",
      "        1    0.000    0.000    0.000    0.000 threading.py:1119(_DummyThread)\n",
      "        1    0.000    0.000    0.000    0.000 _internal.py:219(_missing_ctypes)\n",
      "        1    0.000    0.000    0.000    0.000 machar.py:17(MachAr)\n",
      "        1    0.000    0.000    0.000    0.000 core.py:2569(MaskedIterator)\n",
      "        1    0.000    0.000    0.000    0.000 records.py:83(format_parser)\n",
      "        1    0.000    0.000    0.000    0.000 numbers.py:13(Number)\n",
      "        1    0.000    0.000    0.000    0.000 {numpy.core.multiarray.set_typeDict}\n",
      "        1    0.000    0.000    0.000    0.000 numeric.py:2900(errstate)\n",
      "        1    0.000    0.000    0.000    0.000 contextlib.py:9(GeneratorContextManager)\n",
      "        7    0.000    0.000    0.000    0.000 _inspect.py:144(<lambda>)\n",
      "        1    0.000    0.000    0.000    0.000 version.py:5(<module>)\n",
      "        1    0.000    0.000    0.000    0.000 _endian.py:23(_swapped_meta)\n",
      "        1    0.000    0.000    0.000    0.000 polynomial.py:22(RankWarning)\n",
      "        1    0.000    0.000    0.000    0.000 {_hashlib.openssl_sha224}\n",
      "        1    0.000    0.000    0.000    0.000 polyutils.py:58(RankWarning)\n",
      "        1    0.000    0.000    0.000    0.000 _iotools.py:452(ConverterLockError)\n",
      "        1    0.000    0.000    0.000    0.000 utils.py:1612(WarningManager)\n",
      "        1    0.000    0.000    0.000    0.000 runner.py:12(_WritelnDecorator)\n",
      "        1    0.000    0.000    0.000    0.000 shutil.py:34(SpecialFileError)\n",
      "        3    0.000    0.000    0.000    0.000 {method 'clear' of 'dict' objects}\n",
      "        1    0.000    0.000    0.000    0.000 arrayprint.py:695(ComplexFormat)\n",
      "        1    0.000    0.000    0.000    0.000 signals.py:9(_InterruptHandler)\n",
      "        1    0.000    0.000    0.000    0.000 threading.py:57(_Verbose)\n",
      "        8    0.000    0.000    0.000    0.000 {method 'isdigit' of 'str' objects}\n",
      "        1    0.000    0.000    0.000    0.000 unicode_escape.py:20(IncrementalEncoder)\n",
      "        1    0.000    0.000    0.000    0.000 arrayprint.py:634(IntegerFormat)\n",
      "        1    0.000    0.000    0.000    0.000 case.py:98(_AssertRaisesContext)\n",
      "        1    0.000    0.000    0.000    0.000 __init__.py:425(LibraryLoader)\n",
      "        1    0.000    0.000    0.000    0.000 _endian.py:46(BigEndianStructure)\n",
      "        1    0.000    0.000    0.000    0.000 index_tricks.py:525(ndindex)\n",
      "        1    0.000    0.000    0.000    0.000 io.py:79(TextIOBase)\n",
      "        1    0.000    0.000    0.000    0.000 extras.py:1332(MAxisConcatenator)\n",
      "        1    0.000    0.000    0.000    0.000 extras.py:215(_fromnxfunction)\n",
      "        1    0.000    0.000    0.000    0.000 copy_reg.py:27(constructor)\n",
      "        1    0.000    0.000    0.000    0.000 core.py:7764(_convert2ma)\n",
      "        6    0.000    0.000    0.000    0.000 {numpy.core.umath.geterrobj}\n",
      "        1    0.000    0.000    0.000    0.000 __init__.py:240(c_char_p)\n",
      "        5    0.000    0.000    0.000    0.000 _inspect.py:145(<lambda>)\n",
      "        1    0.000    0.000    0.000    0.000 _iotools.py:460(ConversionWarning)\n",
      "        2    0.000    0.000    0.000    0.000 index_tricks.py:647(__init__)\n",
      "        6    0.000    0.000    0.000    0.000 core.py:841(__init__)\n",
      "        1    0.000    0.000    0.000    0.000 {method '__enter__' of 'thread.lock' objects}\n",
      "        1    0.000    0.000    0.000    0.000 io.py:73(RawIOBase)\n",
      "        1    0.000    0.000    0.000    0.000 index_tricks.py:223(AxisConcatenator)\n",
      "        1    0.000    0.000    0.000    0.000 core.py:6214(_extrema_operation)\n",
      "        1    0.000    0.000    0.000    0.000 arrayprint.py:654(LongFloatFormat)\n",
      "        1    0.000    0.000    0.000    0.000 case.py:34(_ExpectedFailure)\n",
      "        1    0.000    0.000    0.000    0.000 __init__.py:257(c_bool)\n",
      "        1    0.000    0.000    0.000    0.000 utils.py:1841(IgnoreException)\n",
      "        1    0.000    0.000    0.000    0.000 arrayprint.py:733(TimedeltaFormat)\n",
      "        1    0.000    0.000    0.000    0.000 contextlib.py:132(closing)\n",
      "        1    0.000    0.000    0.000    0.000 core.py:130(MAError)\n",
      "        1    0.000    0.000    0.000    0.000 threading.py:64(_note)\n",
      "        1    0.000    0.000    0.000    0.000 threading.py:1079(_MainThread)\n",
      "        1    0.000    0.000    0.000    0.000 numerictypes.py:765(_typedict)\n",
      "        1    0.000    0.000    0.000    0.000 shutil.py:38(ExecError)\n",
      "        1    0.000    0.000    0.000    0.000 {_hashlib.openssl_sha1}\n",
      "        1    0.000    0.000    0.000    0.000 __init__.py:198(c_double)\n",
      "        1    0.000    0.000    0.000    0.000 core.py:855(_DomainGreater)\n",
      "        1    0.000    0.000    0.000    0.000 __init__.py:177(c_ulong)\n",
      "        2    0.000    0.000    0.000    0.000 sre_parse.py:224(isdigit)\n",
      "        1    0.000    0.000    0.000    0.000 case.py:45(_UnexpectedSuccess)\n",
      "        1    0.000    0.000    0.000    0.000 {method 'acquire' of 'thread.lock' objects}\n",
      "        1    0.000    0.000    0.000    0.000 core.py:6114(__array_finalize__)\n",
      "        1    0.000    0.000    0.000    0.000 core.py:90(MaskedArrayFutureWarning)\n",
      "        2    0.000    0.000    0.000    0.000 core.py:876(__init__)\n",
      "        1    0.000    0.000    0.000    0.000 _globals.py:45(VisibleDeprecationWarning)\n",
      "        1    0.000    0.000    0.000    0.000 _internal.py:631(TooHardError)\n",
      "        1    0.000    0.000    0.000    0.000 __init__.py:230(c_byte)\n",
      "        1    0.000    0.000    0.000    0.000 core.py:138(MaskError)\n",
      "        1    0.000    0.000    0.000    0.000 polyutils.py:66(PolyDomainError)\n",
      "        1    0.000    0.000    0.000    0.000 polyutils.py:62(PolyError)\n",
      "        1    0.000    0.000    0.000    0.000 __init__.py:169(c_ushort)\n",
      "        1    0.000    0.000    0.000    0.000 core.py:835(_DomainSafeDivide)\n",
      "        1    0.000    0.000    0.000    0.000 {method 'rstrip' of 'str' objects}\n",
      "        1    0.000    0.000    0.000    0.000 {method '__exit__' of 'thread.lock' objects}\n",
      "        1    0.000    0.000    0.000    0.000 index_tricks.py:352(RClass)\n",
      "        1    0.000    0.000    0.000    0.000 core.py:826(__init__)\n",
      "        1    0.000    0.000    0.000    0.000 polyutils.py:79(PolyBase)\n",
      "        1    0.000    0.000    0.000    0.000 __init__.py:194(c_float)\n",
      "        1    0.000    0.000    0.000    0.000 {_hashlib.openssl_sha256}\n",
      "        1    0.000    0.000    0.000    0.000 case.py:25(SkipTest)\n",
      "        1    0.000    0.000    0.000    0.000 __init__.py:394(WinDLL)\n",
      "        2    0.000    0.000    0.000    0.000 {thread.get_ident}\n",
      "        1    0.000    0.000    0.000    0.000 index_tricks.py:603(IndexExpression)\n",
      "        1    0.000    0.000    0.000    0.000 arrayprint.py:684(LongComplexFormat)\n",
      "        1    0.000    0.000    0.000    0.000 utils.py:37(KnownFailureException)\n",
      "        1    0.000    0.000    0.000    0.000 threading.py:515(_BoundedSemaphore)\n",
      "        1    0.000    0.000    0.000    0.000 __init__.py:173(c_long)\n",
      "        1    0.000    0.000    0.000    0.000 core.py:6342(_frommethod)\n",
      "        1    0.000    0.000    0.000    0.000 core.py:1118(_DomainedBinaryOperation)\n",
      "        1    0.000    0.000    0.000    0.000 stride_tricks.py:15(DummyArray)\n",
      "        1    0.000    0.000    0.000    0.000 extras.py:1398(mr_class)\n",
      "        1    0.000    0.000    0.000    0.000 numeric.py:2896(_unspecified)\n",
      "        1    0.000    0.000    0.000    0.000 __init__.py:202(c_longdouble)\n",
      "        1    0.000    0.000    0.000    0.000 core.py:796(_DomainCheckInterval)\n",
      "        1    0.000    0.000    0.000    0.000 __init__.py:416(OleDLL)\n",
      "        1    0.000    0.000    0.000    0.000 _iotools.py:444(ConverterError)\n",
      "        1    0.000    0.000    0.000    0.000 core.py:870(_DomainGreaterEqual)\n",
      "        1    0.000    0.000    0.000    0.000 __init__.py:403(HRESULT)\n",
      "        1    0.000    0.000    0.000    0.000 index_tricks.py:452(CClass)\n",
      "        1    0.000    0.000    0.000    0.000 _import_tools.py:340(PackageLoaderDebug)\n",
      "        1    0.000    0.000    0.000    0.000 {_hashlib.openssl_sha384}\n",
      "        1    0.000    0.000    0.000    0.000 _globals.py:33(ModuleDeprecationWarning)\n",
      "        1    0.000    0.000    0.000    0.000 {_hashlib.openssl_sha512}\n",
      "        1    0.000    0.000    0.000    0.000 core.py:818(_DomainTan)\n",
      "        1    0.000    0.000    0.000    0.000 core.py:2358(__init__)\n",
      "        1    0.000    0.000    0.000    0.000 __init__.py:252(c_void_p)\n",
      "        1    0.000    0.000    0.000    0.000 core.py:6285(_maximum_operation)\n",
      "        1    0.000    0.000    0.000    0.000 shutil.py:31(Error)\n",
      "        1    0.000    0.000    0.000    0.000 numeric.py:55(ComplexWarning)\n",
      "        1    0.000    0.000    0.000    0.000 __init__.py:212(c_longlong)\n",
      "        1    0.000    0.000    0.000    0.000 suite.py:299(_DebugResult)\n",
      "        1    0.000    0.000    0.000    0.000 __init__.py:165(c_short)\n",
      "        1    0.000    0.000    0.000    0.000 unicode_escape.py:31(StreamReader)\n",
      "        1    0.000    0.000    0.000    0.000 _globals.py:56(_NoValue)\n",
      "        1    0.000    0.000    0.000    0.000 __init__.py:288(c_wchar_p)\n",
      "        1    0.000    0.000    0.000    0.000 __init__.py:223(c_ubyte)\n",
      "        1    0.000    0.000    0.000    0.000 __init__.py:216(c_ulonglong)\n",
      "        1    0.000    0.000    0.000    0.000 __init__.py:291(c_wchar)\n",
      "        1    0.000    0.000    0.000    0.000 unicode_escape.py:28(StreamWriter)\n",
      "        1    0.000    0.000    0.000    0.000 threading.py:1088(_set_daemon)\n",
      "        1    0.000    0.000    0.000    0.000 __init__.py:235(c_char)\n",
      "        1    0.000    0.000    0.000    0.000 unicode_escape.py:24(IncrementalDecoder)\n",
      "        1    0.000    0.000    0.000    0.000 {method 'disable' of '_lsprof.Profiler' objects}\n",
      "\n",
      "\n"
     ]
    }
   ],
   "source": [
    "!python -m cProfile -s cumulative lab_profiling/compute_max_value.py"
   ]
  },
  {
   "cell_type": "markdown",
   "metadata": {},
   "source": [
    "# IPython HTML Notebook\n",
    "----\n",
    "> IPthon Notebook has a JSON-based .ipynb document format that enables easy sharing of code, output,and figures. Recently in Python conferences, a popular approach for demonstrations has been to use the notebook and post the .ipynb files online afterward for everyoneto play with.\n",
    "\n",
    "### Running: \n",
    "```python\n",
    "ipython notebook --pylab=inline\n",
    "```"
   ]
  },
  {
   "cell_type": "markdown",
   "metadata": {},
   "source": [
    "# Tips for Productive Code Development Using IPython\n",
    "> Writing code in clean way is very important. Because, in the future, you or the maintainer may have to look at code you made in several months or years ago. So, the code should be as clean as possible for reducing the time to understand. \n",
    "\n",
    "> There are some software designed with IPython to be easier to work with."
   ]
  },
  {
   "cell_type": "markdown",
   "metadata": {},
   "source": [
    "## Reloading Module Dependencies"
   ]
  },
  {
   "cell_type": "markdown",
   "metadata": {},
   "source": [
    "> When your code using a dependency module, and then that module changes something, then you have to reload that module"
   ]
  },
  {
   "cell_type": "markdown",
   "metadata": {},
   "source": [
    "## Code Design Tips\n",
    "* Keep relevant objects and data alive\n",
    "* Flat is better than nested\n",
    "* Overcome a fear of longer files"
   ]
  },
  {
   "cell_type": "markdown",
   "metadata": {},
   "source": [
    "# Advanced IPython Features\n",
    "----"
   ]
  },
  {
   "cell_type": "markdown",
   "metadata": {},
   "source": [
    "## Making Your Own Classes IPython-friendly"
   ]
  },
  {
   "cell_type": "code",
   "execution_count": 28,
   "metadata": {
    "collapsed": false
   },
   "outputs": [],
   "source": [
    "class Message:\n",
    "    def __init__(self, msg):\n",
    "        self.msg = msg\n",
    "    def __repr__(self):\n",
    "        return self.msg"
   ]
  },
  {
   "cell_type": "code",
   "execution_count": 36,
   "metadata": {
    "collapsed": false
   },
   "outputs": [
    {
     "data": {
      "text/plain": [
       "'blah'"
      ]
     },
     "execution_count": 36,
     "metadata": {},
     "output_type": "execute_result"
    }
   ],
   "source": [
    "x = Message('blah')\n",
    "repr(x)"
   ]
  },
  {
   "cell_type": "markdown",
   "metadata": {},
   "source": [
    "## Profiles and Configuration\n",
    "\n",
    "* Change the color scheme\n",
    "* Change how the input and output prompts look, or remove the blank line afterOut and before the next In prompt\n",
    "* Change how the input and output prompts look\n",
    "* Execute an arbitrary list of Python statements. These could be imports that youuse all the time or anything else you want to happen each time you launch IPython\n",
    "* Enable IPython extensions, like the %lprun magic in line_profiler\n",
    "* Define your own magics or system aliases"
   ]
  },
  {
   "cell_type": "code",
   "execution_count": null,
   "metadata": {
    "collapsed": true
   },
   "outputs": [],
   "source": []
  }
 ],
 "metadata": {
  "anaconda-cloud": {},
  "kernelspec": {
   "display_name": "Python [conda root]",
   "language": "python",
   "name": "conda-root-py"
  },
  "language_info": {
   "codemirror_mode": {
    "name": "ipython",
    "version": 2
   },
   "file_extension": ".py",
   "mimetype": "text/x-python",
   "name": "python",
   "nbconvert_exporter": "python",
   "pygments_lexer": "ipython2",
   "version": "2.7.12"
  }
 },
 "nbformat": 4,
 "nbformat_minor": 1
}
