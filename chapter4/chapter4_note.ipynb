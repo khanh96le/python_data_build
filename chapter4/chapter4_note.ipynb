{
 "cells": [
  {
   "cell_type": "markdown",
   "metadata": {},
   "source": [
    "# Chapter 4: Numpy basic (Arrays and vectorized computation)\n",
    "**Overview:**\n",
    "* The NumPy ndarray: A Multidimensional Array Object\n",
    "* Universal Functions: Fast Element-wise Array Functions\n",
    "* Data Processing Using Arrays\n",
    "* File Input and Output with Arrays\n",
    "* Linear Algebra\n",
    "* Random Number Generation\n",
    "* Example: Random Walks\n",
    "\n",
    "\n",
    "NumPy, short for Numerical Python, is the fundamental package required for high performance scientific computing and data analysis. It is the foundation on which nearly all of the higher-level tools in this book are built. Here are some of the things it provides: \n",
    "> * ndarray, a fast and space-efficient multidimensional array providing vectorizedarithmetic operations and sophisticated broadcasting capabilities\n",
    "> * Standard  mathematical  functions  for  fast  operations  on  entire  arrays  of  datawithout having to write loops\n",
    "> * Tools for reading / writing array data to disk and working with memory-mappedfiles\n",
    "> * Linear algebra, random number generation, and Fourier transform capabilities\n",
    "> * Tools for integrating code written in C, C++, and Fortran"
   ]
  },
  {
   "cell_type": "markdown",
   "metadata": {},
   "source": [
    "For most data analysis applications, the main areas of functionality I’ll focus on are:\n",
    "* Fast vectorized array operations for data munging and cleaning, subsetting andfiltering, transformation, and any other kinds of computations\n",
    "* Common array algorithms like sorting, unique, and set operations\n",
    "* Efficient descriptive statistics and aggregating/summarizing data\n",
    "* Data alignment and relational data manipulations for merging and joining togetherheterogeneous data sets\n",
    "* Expressing conditional logic as array expressions instead of loops with if-elif-else branches\n",
    "* Group-wise data manipulations"
   ]
  },
  {
   "cell_type": "code",
   "execution_count": null,
   "metadata": {
    "collapsed": true
   },
   "outputs": [],
   "source": []
  }
 ],
 "metadata": {
  "anaconda-cloud": {},
  "kernelspec": {
   "display_name": "Python [conda root]",
   "language": "python",
   "name": "conda-root-py"
  },
  "language_info": {
   "codemirror_mode": {
    "name": "ipython",
    "version": 2
   },
   "file_extension": ".py",
   "mimetype": "text/x-python",
   "name": "python",
   "nbconvert_exporter": "python",
   "pygments_lexer": "ipython2",
   "version": "2.7.12"
  }
 },
 "nbformat": 4,
 "nbformat_minor": 1
}
